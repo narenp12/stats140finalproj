{
 "cells": [
  {
   "cell_type": "markdown",
   "metadata": {},
   "source": [
    "# Exploration notebook (EDA)"
   ]
  },
  {
   "cell_type": "code",
   "execution_count": 61,
   "metadata": {},
   "outputs": [],
   "source": [
    "import pandas as pd\n",
    "import plotly.express as px"
   ]
  },
  {
   "cell_type": "code",
   "execution_count": 62,
   "metadata": {},
   "outputs": [],
   "source": [
    "papers = pd.read_parquet(\"arXiv.parquet\")"
   ]
  },
  {
   "cell_type": "code",
   "execution_count": 63,
   "metadata": {},
   "outputs": [
    {
     "name": "stdout",
     "output_type": "stream",
     "text": [
      "<class 'pandas.core.frame.DataFrame'>\n",
      "RangeIndex: 136238 entries, 0 to 136237\n",
      "Data columns (total 10 columns):\n",
      " #   Column              Non-Null Count   Dtype \n",
      "---  ------              --------------   ----- \n",
      " 0   id                  136238 non-null  object\n",
      " 1   title               136238 non-null  object\n",
      " 2   category            136238 non-null  object\n",
      " 3   category_code       136238 non-null  object\n",
      " 4   published_date      136238 non-null  object\n",
      " 5   updated_date        136238 non-null  object\n",
      " 6   authors             136238 non-null  object\n",
      " 7   first_author        136238 non-null  object\n",
      " 8   summary             136238 non-null  object\n",
      " 9   summary_word_count  136238 non-null  int64 \n",
      "dtypes: int64(1), object(9)\n",
      "memory usage: 10.4+ MB\n"
     ]
    }
   ],
   "source": [
    "papers.info()"
   ]
  },
  {
   "cell_type": "code",
   "execution_count": 64,
   "metadata": {},
   "outputs": [
    {
     "data": {
      "application/vnd.microsoft.datawrangler.viewer.v0+json": {
       "columns": [
        {
         "name": "index",
         "rawType": "object",
         "type": "string"
        },
        {
         "name": "summary_word_count",
         "rawType": "float64",
         "type": "float"
        }
       ],
       "conversionMethod": "pd.DataFrame",
       "ref": "095faa85-4cef-4604-a814-2f95b48fed6c",
       "rows": [
        [
         "count",
         "136238.0"
        ],
        [
         "mean",
         "162.38683039974163"
        ],
        [
         "std",
         "49.37447355591859"
        ],
        [
         "min",
         "1.0"
        ],
        [
         "25%",
         "128.0"
        ],
        [
         "50%",
         "160.0"
        ],
        [
         "75%",
         "195.0"
        ],
        [
         "max",
         "552.0"
        ]
       ],
       "shape": {
        "columns": 1,
        "rows": 8
       }
      },
      "text/html": [
       "<div>\n",
       "<style scoped>\n",
       "    .dataframe tbody tr th:only-of-type {\n",
       "        vertical-align: middle;\n",
       "    }\n",
       "\n",
       "    .dataframe tbody tr th {\n",
       "        vertical-align: top;\n",
       "    }\n",
       "\n",
       "    .dataframe thead th {\n",
       "        text-align: right;\n",
       "    }\n",
       "</style>\n",
       "<table border=\"1\" class=\"dataframe\">\n",
       "  <thead>\n",
       "    <tr style=\"text-align: right;\">\n",
       "      <th></th>\n",
       "      <th>summary_word_count</th>\n",
       "    </tr>\n",
       "  </thead>\n",
       "  <tbody>\n",
       "    <tr>\n",
       "      <th>count</th>\n",
       "      <td>136238.000000</td>\n",
       "    </tr>\n",
       "    <tr>\n",
       "      <th>mean</th>\n",
       "      <td>162.386830</td>\n",
       "    </tr>\n",
       "    <tr>\n",
       "      <th>std</th>\n",
       "      <td>49.374474</td>\n",
       "    </tr>\n",
       "    <tr>\n",
       "      <th>min</th>\n",
       "      <td>1.000000</td>\n",
       "    </tr>\n",
       "    <tr>\n",
       "      <th>25%</th>\n",
       "      <td>128.000000</td>\n",
       "    </tr>\n",
       "    <tr>\n",
       "      <th>50%</th>\n",
       "      <td>160.000000</td>\n",
       "    </tr>\n",
       "    <tr>\n",
       "      <th>75%</th>\n",
       "      <td>195.000000</td>\n",
       "    </tr>\n",
       "    <tr>\n",
       "      <th>max</th>\n",
       "      <td>552.000000</td>\n",
       "    </tr>\n",
       "  </tbody>\n",
       "</table>\n",
       "</div>"
      ],
      "text/plain": [
       "       summary_word_count\n",
       "count       136238.000000\n",
       "mean           162.386830\n",
       "std             49.374474\n",
       "min              1.000000\n",
       "25%            128.000000\n",
       "50%            160.000000\n",
       "75%            195.000000\n",
       "max            552.000000"
      ]
     },
     "execution_count": 64,
     "metadata": {},
     "output_type": "execute_result"
    }
   ],
   "source": [
    "papers.describe()"
   ]
  },
  {
   "cell_type": "code",
   "execution_count": 65,
   "metadata": {},
   "outputs": [
    {
     "data": {
      "application/vnd.microsoft.datawrangler.viewer.v0+json": {
       "columns": [
        {
         "name": "index",
         "rawType": "int64",
         "type": "integer"
        },
        {
         "name": "id",
         "rawType": "object",
         "type": "string"
        },
        {
         "name": "title",
         "rawType": "object",
         "type": "string"
        },
        {
         "name": "category",
         "rawType": "object",
         "type": "string"
        },
        {
         "name": "category_code",
         "rawType": "object",
         "type": "string"
        },
        {
         "name": "published_date",
         "rawType": "object",
         "type": "unknown"
        },
        {
         "name": "updated_date",
         "rawType": "object",
         "type": "unknown"
        },
        {
         "name": "authors",
         "rawType": "object",
         "type": "string"
        },
        {
         "name": "first_author",
         "rawType": "object",
         "type": "string"
        },
        {
         "name": "summary",
         "rawType": "object",
         "type": "string"
        },
        {
         "name": "summary_word_count",
         "rawType": "int64",
         "type": "integer"
        }
       ],
       "conversionMethod": "pd.DataFrame",
       "ref": "7c0bef65-d9f4-4264-8fa1-d5143318e4c9",
       "rows": [
        [
         "0",
         "cs-9308101v1",
         "Dynamic Backtracking",
         "Artificial Intelligence",
         "cs.AI",
         "1993-08-01",
         "1993-08-01",
         "['M. L. Ginsberg']",
         "'M. L. Ginsberg'",
         "Because of their occasional need to return to shallow points in a search\ntree, existing backtracking methods can sometimes erase meaningful progress\ntoward solving a search problem. In this paper, we present a method by which\nbacktrack points can be moved deeper in the search space, thereby avoiding this\ndifficulty. The technique developed is a variant of dependency-directed\nbacktracking that uses only polynomial space while still providing useful\ncontrol information and retaining the completeness guarantees provided by\nearlier approaches.",
         "79"
        ],
        [
         "1",
         "cs-9308102v1",
         "A Market-Oriented Programming Environment and its Application to\n  Distributed Multicommodity Flow Problems",
         "Artificial Intelligence",
         "cs.AI",
         "1993-08-01",
         "1993-08-01",
         "['M. P. Wellman']",
         "'M. P. Wellman'",
         "Market price systems constitute a well-understood class of mechanisms that\nunder certain conditions provide effective decentralization of decision making\nwith minimal communication overhead. In a market-oriented programming approach\nto distributed problem solving, we derive the activities and resource\nallocations for a set of computational agents by computing the competitive\nequilibrium of an artificial economy. WALRAS provides basic constructs for\ndefining computational market structures, and protocols for deriving their\ncorresponding price equilibria. In a particular realization of this approach\nfor a form of multicommodity flow problem, we see that careful construction of\nthe decision process according to economic principles can lead to efficient\ndistributed resource allocation, and that the behavior of the system can be\nmeaningfully analyzed in economic terms.",
         "119"
        ],
        [
         "2",
         "cs-9309101v1",
         "An Empirical Analysis of Search in GSAT",
         "Artificial Intelligence",
         "cs.AI",
         "1993-09-01",
         "1993-09-01",
         "['I. P. Gent', 'T. Walsh']",
         "'I. P. Gent'",
         "We describe an extensive study of search in GSAT, an approximation procedure\nfor propositional satisfiability. GSAT performs greedy hill-climbing on the\nnumber of satisfied clauses in a truth assignment. Our experiments provide a\nmore complete picture of GSAT's search than previous accounts. We describe in\ndetail the two phases of search: rapid hill-climbing followed by a long plateau\nsearch. We demonstrate that when applied to randomly generated 3SAT problems,\nthere is a very simple scaling with problem size for both the mean number of\nsatisfied clauses and the mean branching rate. Our results allow us to make\ndetailed numerical conjectures about the length of the hill-climbing phase, the\naverage gradient of this phase, and to conjecture that both the average score\nand average branching rate decay exponentially during plateau search. We end by\nshowing how these results can be used to direct future theoretical analysis.\nThis work provides a case study of how computer experiments can be used to\nimprove understanding of the theoretical properties of algorithms.",
         "167"
        ],
        [
         "3",
         "cs-9311101v1",
         "The Difficulties of Learning Logic Programs with Cut",
         "Artificial Intelligence",
         "cs.AI",
         "1993-11-01",
         "1993-11-01",
         "['F. Bergadano', 'D. Gunetti', 'U. Trinchero']",
         "'F. Bergadano'",
         "As real logic programmers normally use cut (!), an effective learning\nprocedure for logic programs should be able to deal with it. Because the cut\npredicate has only a procedural meaning, clauses containing cut cannot be\nlearned using an extensional evaluation method, as is done in most learning\nsystems. On the other hand, searching a space of possible programs (instead of\na space of independent clauses) is unfeasible. An alternative solution is to\ngenerate first a candidate base program which covers the positive examples, and\nthen make it consistent by inserting cut where appropriate. The problem of\nlearning programs with cut has not been investigated before and this seems to\nbe a natural and reasonable approach. We generalize this scheme and investigate\nthe difficulties that arise. Some of the major shortcomings are actually\ncaused, in general, by the need for intensional evaluation. As a conclusion,\nthe analysis of this paper suggests, on precise and technical grounds, that\nlearning cut is difficult, and current induction techniques should probably be\nrestricted to purely declarative logic languages.",
         "174"
        ],
        [
         "4",
         "cs-9311102v1",
         "Software Agents: Completing Patterns and Constructing User Interfaces",
         "Artificial Intelligence",
         "cs.AI",
         "1993-11-01",
         "1993-11-01",
         "['J. C. Schlimmer', 'L. A. Hermens']",
         "'J. C. Schlimmer'",
         "To support the goal of allowing users to record and retrieve information,\nthis paper describes an interactive note-taking system for pen-based computers\nwith two distinctive features. First, it actively predicts what the user is\ngoing to write. Second, it automatically constructs a custom, button-box user\ninterface on request. The system is an example of a learning-apprentice\nsoftware- agent. A machine learning component characterizes the syntax and\nsemantics of the user's information. A performance system uses this learned\ninformation to generate completion strings and construct a user interface.\nDescription of Online Appendix: People like to record information. Doing this\non paper is initially efficient, but lacks flexibility. Recording information\non a computer is less efficient but more powerful. In our new note taking\nsoftwre, the user records information directly on a computer. Behind the\ninterface, an agent acts for the user. To help, it provides defaults and\nconstructs a custom user interface. The demonstration is a QuickTime movie of\nthe note taking agent in action. The file is a binhexed self-extracting\narchive. Macintosh utilities for binhex are available from\nmac.archive.umich.edu. QuickTime is available from ftp.apple.com in the\ndts/mac/sys.soft/quicktime.",
         "187"
        ]
       ],
       "shape": {
        "columns": 10,
        "rows": 5
       }
      },
      "text/html": [
       "<div>\n",
       "<style scoped>\n",
       "    .dataframe tbody tr th:only-of-type {\n",
       "        vertical-align: middle;\n",
       "    }\n",
       "\n",
       "    .dataframe tbody tr th {\n",
       "        vertical-align: top;\n",
       "    }\n",
       "\n",
       "    .dataframe thead th {\n",
       "        text-align: right;\n",
       "    }\n",
       "</style>\n",
       "<table border=\"1\" class=\"dataframe\">\n",
       "  <thead>\n",
       "    <tr style=\"text-align: right;\">\n",
       "      <th></th>\n",
       "      <th>id</th>\n",
       "      <th>title</th>\n",
       "      <th>category</th>\n",
       "      <th>category_code</th>\n",
       "      <th>published_date</th>\n",
       "      <th>updated_date</th>\n",
       "      <th>authors</th>\n",
       "      <th>first_author</th>\n",
       "      <th>summary</th>\n",
       "      <th>summary_word_count</th>\n",
       "    </tr>\n",
       "  </thead>\n",
       "  <tbody>\n",
       "    <tr>\n",
       "      <th>0</th>\n",
       "      <td>cs-9308101v1</td>\n",
       "      <td>Dynamic Backtracking</td>\n",
       "      <td>Artificial Intelligence</td>\n",
       "      <td>cs.AI</td>\n",
       "      <td>1993-08-01</td>\n",
       "      <td>1993-08-01</td>\n",
       "      <td>['M. L. Ginsberg']</td>\n",
       "      <td>'M. L. Ginsberg'</td>\n",
       "      <td>Because of their occasional need to return to ...</td>\n",
       "      <td>79</td>\n",
       "    </tr>\n",
       "    <tr>\n",
       "      <th>1</th>\n",
       "      <td>cs-9308102v1</td>\n",
       "      <td>A Market-Oriented Programming Environment and ...</td>\n",
       "      <td>Artificial Intelligence</td>\n",
       "      <td>cs.AI</td>\n",
       "      <td>1993-08-01</td>\n",
       "      <td>1993-08-01</td>\n",
       "      <td>['M. P. Wellman']</td>\n",
       "      <td>'M. P. Wellman'</td>\n",
       "      <td>Market price systems constitute a well-underst...</td>\n",
       "      <td>119</td>\n",
       "    </tr>\n",
       "    <tr>\n",
       "      <th>2</th>\n",
       "      <td>cs-9309101v1</td>\n",
       "      <td>An Empirical Analysis of Search in GSAT</td>\n",
       "      <td>Artificial Intelligence</td>\n",
       "      <td>cs.AI</td>\n",
       "      <td>1993-09-01</td>\n",
       "      <td>1993-09-01</td>\n",
       "      <td>['I. P. Gent', 'T. Walsh']</td>\n",
       "      <td>'I. P. Gent'</td>\n",
       "      <td>We describe an extensive study of search in GS...</td>\n",
       "      <td>167</td>\n",
       "    </tr>\n",
       "    <tr>\n",
       "      <th>3</th>\n",
       "      <td>cs-9311101v1</td>\n",
       "      <td>The Difficulties of Learning Logic Programs wi...</td>\n",
       "      <td>Artificial Intelligence</td>\n",
       "      <td>cs.AI</td>\n",
       "      <td>1993-11-01</td>\n",
       "      <td>1993-11-01</td>\n",
       "      <td>['F. Bergadano', 'D. Gunetti', 'U. Trinchero']</td>\n",
       "      <td>'F. Bergadano'</td>\n",
       "      <td>As real logic programmers normally use cut (!)...</td>\n",
       "      <td>174</td>\n",
       "    </tr>\n",
       "    <tr>\n",
       "      <th>4</th>\n",
       "      <td>cs-9311102v1</td>\n",
       "      <td>Software Agents: Completing Patterns and Const...</td>\n",
       "      <td>Artificial Intelligence</td>\n",
       "      <td>cs.AI</td>\n",
       "      <td>1993-11-01</td>\n",
       "      <td>1993-11-01</td>\n",
       "      <td>['J. C. Schlimmer', 'L. A. Hermens']</td>\n",
       "      <td>'J. C. Schlimmer'</td>\n",
       "      <td>To support the goal of allowing users to recor...</td>\n",
       "      <td>187</td>\n",
       "    </tr>\n",
       "  </tbody>\n",
       "</table>\n",
       "</div>"
      ],
      "text/plain": [
       "             id                                              title  \\\n",
       "0  cs-9308101v1                               Dynamic Backtracking   \n",
       "1  cs-9308102v1  A Market-Oriented Programming Environment and ...   \n",
       "2  cs-9309101v1            An Empirical Analysis of Search in GSAT   \n",
       "3  cs-9311101v1  The Difficulties of Learning Logic Programs wi...   \n",
       "4  cs-9311102v1  Software Agents: Completing Patterns and Const...   \n",
       "\n",
       "                  category category_code published_date updated_date  \\\n",
       "0  Artificial Intelligence         cs.AI     1993-08-01   1993-08-01   \n",
       "1  Artificial Intelligence         cs.AI     1993-08-01   1993-08-01   \n",
       "2  Artificial Intelligence         cs.AI     1993-09-01   1993-09-01   \n",
       "3  Artificial Intelligence         cs.AI     1993-11-01   1993-11-01   \n",
       "4  Artificial Intelligence         cs.AI     1993-11-01   1993-11-01   \n",
       "\n",
       "                                          authors       first_author  \\\n",
       "0                              ['M. L. Ginsberg']   'M. L. Ginsberg'   \n",
       "1                               ['M. P. Wellman']    'M. P. Wellman'   \n",
       "2                      ['I. P. Gent', 'T. Walsh']       'I. P. Gent'   \n",
       "3  ['F. Bergadano', 'D. Gunetti', 'U. Trinchero']     'F. Bergadano'   \n",
       "4            ['J. C. Schlimmer', 'L. A. Hermens']  'J. C. Schlimmer'   \n",
       "\n",
       "                                             summary  summary_word_count  \n",
       "0  Because of their occasional need to return to ...                  79  \n",
       "1  Market price systems constitute a well-underst...                 119  \n",
       "2  We describe an extensive study of search in GS...                 167  \n",
       "3  As real logic programmers normally use cut (!)...                 174  \n",
       "4  To support the goal of allowing users to recor...                 187  "
      ]
     },
     "execution_count": 65,
     "metadata": {},
     "output_type": "execute_result"
    }
   ],
   "source": [
    "papers.head()"
   ]
  },
  {
   "cell_type": "code",
   "execution_count": 66,
   "metadata": {},
   "outputs": [
    {
     "data": {
      "application/vnd.microsoft.datawrangler.viewer.v0+json": {
       "columns": [
        {
         "name": "index",
         "rawType": "int64",
         "type": "integer"
        },
        {
         "name": "id",
         "rawType": "object",
         "type": "string"
        },
        {
         "name": "title",
         "rawType": "object",
         "type": "string"
        },
        {
         "name": "category",
         "rawType": "object",
         "type": "string"
        },
        {
         "name": "category_code",
         "rawType": "object",
         "type": "string"
        },
        {
         "name": "published_date",
         "rawType": "object",
         "type": "unknown"
        },
        {
         "name": "updated_date",
         "rawType": "object",
         "type": "unknown"
        },
        {
         "name": "authors",
         "rawType": "object",
         "type": "string"
        },
        {
         "name": "first_author",
         "rawType": "object",
         "type": "string"
        },
        {
         "name": "summary",
         "rawType": "object",
         "type": "string"
        },
        {
         "name": "summary_word_count",
         "rawType": "int64",
         "type": "integer"
        }
       ],
       "conversionMethod": "pd.DataFrame",
       "ref": "b1043070-a127-4172-bd14-ea3f296e96fe",
       "rows": [
        [
         "136233",
         "abs-2408.08541v1",
         "Where is the signal in tokenization space?",
         "Computation and Language (Natural Language Processing)",
         "cs.CL",
         "2024-08-16",
         "2024-08-16",
         "['Renato Lui Geh', 'Honghua Zhang', 'Kareem Ahmed', 'Benjie Wang', 'Guy Van den Broeck']",
         "'Renato Lui Geh'",
         "Large Language Models (LLMs) are typically shipped with tokenizers that\ndeterministically encode text into so-called canonical token sequences, to\nwhich the LLMs assign probability values. One common assumption is that the\nprobability of a piece of text is the probability of its canonical token\nsequence. However, the tokenization of a string is not unique: e.g., the Llama2\ntokenizer encodes Tokens as [Tok,ens], but [Tok,en,s] also represents the same\ntext. In this paper, we study non-canonical tokenizations. We prove that, given\na string, it is computationally hard to find the most likely tokenization for\nan autoregressive LLM, as well as to compute the marginal probability over all\npossible tokenizations. We then show how the marginal is, in most cases,\nindistinguishable from the canonical probability. Surprisingly, we then\nempirically demonstrate the existence of a significant amount of signal hidden\nwithin tokenization space. Notably, by simply aggregating the probabilities of\nnon-canonical tokenizations, we achieve improvements across a range of LLM\nevaluation benchmarks for a variety of architectures, including transformers\nand state space models.",
         "170"
        ],
        [
         "136234",
         "abs-2408.08564v1",
         "Collaborative Cross-modal Fusion with Large Language Model for\n  Recommendation",
         "Information Retrieval",
         "cs.IR",
         "2024-08-16",
         "2024-08-16",
         "['Zhongzhou Liu', 'Hao Zhang', 'Kuicai Dong', 'Yuan Fang']",
         "'Zhongzhou Liu'",
         "Despite the success of conventional collaborative filtering (CF) approaches\nfor recommendation systems, they exhibit limitations in leveraging semantic\nknowledge within the textual attributes of users and items. Recent focus on the\napplication of large language models for recommendation (LLM4Rec) has\nhighlighted their capability for effective semantic knowledge capture. However,\nthese methods often overlook the collaborative signals in user behaviors. Some\nsimply instruct-tune a language model, while others directly inject the\nembeddings of a CF-based model, lacking a synergistic fusion of different\nmodalities. To address these issues, we propose a framework of Collaborative\nCross-modal Fusion with Large Language Models, termed CCF-LLM, for\nrecommendation. In this framework, we translate the user-item interactions into\na hybrid prompt to encode both semantic knowledge and collaborative signals,\nand then employ an attentive cross-modal fusion strategy to effectively fuse\nlatent embeddings of both modalities. Extensive experiments demonstrate that\nCCF-LLM outperforms existing methods by effectively utilizing semantic and\ncollaborative signals in the LLM4Rec context.",
         "157"
        ],
        [
         "136235",
         "abs-2408.08624v1",
         "RealMedQA: A pilot biomedical question answering dataset containing\n  realistic clinical questions",
         "Computation and Language (Natural Language Processing)",
         "cs.CL",
         "2024-08-16",
         "2024-08-16",
         "['Gregory Kell', 'Angus Roberts', 'Serge Umansky', 'Yuti Khare', 'Najma Ahmed', 'Nikhil Patel', 'Chloe Simela', 'Jack Coumbe', 'Julian Rozario', 'Ryan-Rhys Griffiths', 'Iain J. Marshall']",
         "'Gregory Kell'",
         "Clinical question answering systems have the potential to provide clinicians\nwith relevant and timely answers to their questions. Nonetheless, despite the\nadvances that have been made, adoption of these systems in clinical settings\nhas been slow. One issue is a lack of question-answering datasets which reflect\nthe real-world needs of health professionals. In this work, we present\nRealMedQA, a dataset of realistic clinical questions generated by humans and an\nLLM. We describe the process for generating and verifying the QA pairs and\nassess several QA models on BioASQ and RealMedQA to assess the relative\ndifficulty of matching answers to questions. We show that the LLM is more\ncost-efficient for generating \"ideal\" QA pairs. Additionally, we achieve a\nlower lexical similarity between questions and answers than BioASQ which\nprovides an additional challenge to the top two QA models, as per the results.\nWe release our code and our dataset publicly to encourage further research.",
         "153"
        ],
        [
         "136236",
         "abs-2408.08648v1",
         "Understanding Enthymemes in Argument Maps: Bridging Argument Mining and\n  Logic-based Argumentation",
         "Artificial Intelligence",
         "cs.AI",
         "2024-08-16",
         "2024-08-16",
         "['Jonathan Ben-Naim', 'Victor David', 'Anthony Hunter']",
         "'Jonathan Ben-Naim'",
         "Argument mining is natural language processing technology aimed at\nidentifying arguments in text. Furthermore, the approach is being developed to\nidentify the premises and claims of those arguments, and to identify the\nrelationships between arguments including support and attack relationships. In\nthis paper, we assume that an argument map contains the premises and claims of\narguments, and support and attack relationships between them, that have been\nidentified by argument mining. So from a piece of text, we assume an argument\nmap is obtained automatically by natural language processing. However, to\nunderstand and to automatically analyse that argument map, it would be\ndesirable to instantiate that argument map with logical arguments. Once we have\nthe logical representation of the arguments in an argument map, we can use\nautomated reasoning to analyze the argumentation (e.g. check consistency of\npremises, check validity of claims, and check the labelling on each arc\ncorresponds with thw logical arguments). We address this need by using\nclassical logic for representing the explicit information in the text, and\nusing default logic for representing the implicit information in the text. In\norder to investigate our proposal, we consider some specific options for\ninstantiation.",
         "194"
        ],
        [
         "136237",
         "abs-2408.08651v2",
         "Reasoning Beyond Bias: A Study on Counterfactual Prompting and Chain of\n  Thought Reasoning",
         "Computation and Language (Natural Language Processing)",
         "cs.CL",
         "2024-08-16",
         "2024-09-06",
         "['Kyle Moore', 'Jesse Roberts', 'Thao Pham', 'Douglas Fisher']",
         "'Kyle Moore'",
         "Language models are known to absorb biases from their training data, leading\nto predictions driven by statistical regularities rather than semantic\nrelevance. We investigate the impact of these biases on answer choice\npreferences in the Massive Multi-Task Language Understanding (MMLU) task. Our\nfindings reveal that differences in learned regularities across answer options\nare predictive of model preferences and mirror human test-taking strategies. To\naddress this issue, we introduce two novel methods: Counterfactual Prompting\nwith Chain of Thought (CoT) and Counterfactual Prompting with Agnostically\nPrimed CoT (APriCoT). We demonstrate that while Counterfactual Prompting with\nCoT alone is insufficient to mitigate bias, our novel Primed Counterfactual\nPrompting with CoT approach effectively reduces the influence of base-rate\nprobabilities while improving overall accuracy. Our results suggest that\nmitigating bias requires a \"System-2\" like process and that CoT reasoning is\nsusceptible to confirmation bias under some prompting methodologies. Our\ncontributions offer practical solutions for developing more robust and fair\nlanguage models.",
         "156"
        ]
       ],
       "shape": {
        "columns": 10,
        "rows": 5
       }
      },
      "text/html": [
       "<div>\n",
       "<style scoped>\n",
       "    .dataframe tbody tr th:only-of-type {\n",
       "        vertical-align: middle;\n",
       "    }\n",
       "\n",
       "    .dataframe tbody tr th {\n",
       "        vertical-align: top;\n",
       "    }\n",
       "\n",
       "    .dataframe thead th {\n",
       "        text-align: right;\n",
       "    }\n",
       "</style>\n",
       "<table border=\"1\" class=\"dataframe\">\n",
       "  <thead>\n",
       "    <tr style=\"text-align: right;\">\n",
       "      <th></th>\n",
       "      <th>id</th>\n",
       "      <th>title</th>\n",
       "      <th>category</th>\n",
       "      <th>category_code</th>\n",
       "      <th>published_date</th>\n",
       "      <th>updated_date</th>\n",
       "      <th>authors</th>\n",
       "      <th>first_author</th>\n",
       "      <th>summary</th>\n",
       "      <th>summary_word_count</th>\n",
       "    </tr>\n",
       "  </thead>\n",
       "  <tbody>\n",
       "    <tr>\n",
       "      <th>136233</th>\n",
       "      <td>abs-2408.08541v1</td>\n",
       "      <td>Where is the signal in tokenization space?</td>\n",
       "      <td>Computation and Language (Natural Language Pro...</td>\n",
       "      <td>cs.CL</td>\n",
       "      <td>2024-08-16</td>\n",
       "      <td>2024-08-16</td>\n",
       "      <td>['Renato Lui Geh', 'Honghua Zhang', 'Kareem Ah...</td>\n",
       "      <td>'Renato Lui Geh'</td>\n",
       "      <td>Large Language Models (LLMs) are typically shi...</td>\n",
       "      <td>170</td>\n",
       "    </tr>\n",
       "    <tr>\n",
       "      <th>136234</th>\n",
       "      <td>abs-2408.08564v1</td>\n",
       "      <td>Collaborative Cross-modal Fusion with Large La...</td>\n",
       "      <td>Information Retrieval</td>\n",
       "      <td>cs.IR</td>\n",
       "      <td>2024-08-16</td>\n",
       "      <td>2024-08-16</td>\n",
       "      <td>['Zhongzhou Liu', 'Hao Zhang', 'Kuicai Dong', ...</td>\n",
       "      <td>'Zhongzhou Liu'</td>\n",
       "      <td>Despite the success of conventional collaborat...</td>\n",
       "      <td>157</td>\n",
       "    </tr>\n",
       "    <tr>\n",
       "      <th>136235</th>\n",
       "      <td>abs-2408.08624v1</td>\n",
       "      <td>RealMedQA: A pilot biomedical question answeri...</td>\n",
       "      <td>Computation and Language (Natural Language Pro...</td>\n",
       "      <td>cs.CL</td>\n",
       "      <td>2024-08-16</td>\n",
       "      <td>2024-08-16</td>\n",
       "      <td>['Gregory Kell', 'Angus Roberts', 'Serge Umans...</td>\n",
       "      <td>'Gregory Kell'</td>\n",
       "      <td>Clinical question answering systems have the p...</td>\n",
       "      <td>153</td>\n",
       "    </tr>\n",
       "    <tr>\n",
       "      <th>136236</th>\n",
       "      <td>abs-2408.08648v1</td>\n",
       "      <td>Understanding Enthymemes in Argument Maps: Bri...</td>\n",
       "      <td>Artificial Intelligence</td>\n",
       "      <td>cs.AI</td>\n",
       "      <td>2024-08-16</td>\n",
       "      <td>2024-08-16</td>\n",
       "      <td>['Jonathan Ben-Naim', 'Victor David', 'Anthony...</td>\n",
       "      <td>'Jonathan Ben-Naim'</td>\n",
       "      <td>Argument mining is natural language processing...</td>\n",
       "      <td>194</td>\n",
       "    </tr>\n",
       "    <tr>\n",
       "      <th>136237</th>\n",
       "      <td>abs-2408.08651v2</td>\n",
       "      <td>Reasoning Beyond Bias: A Study on Counterfactu...</td>\n",
       "      <td>Computation and Language (Natural Language Pro...</td>\n",
       "      <td>cs.CL</td>\n",
       "      <td>2024-08-16</td>\n",
       "      <td>2024-09-06</td>\n",
       "      <td>['Kyle Moore', 'Jesse Roberts', 'Thao Pham', '...</td>\n",
       "      <td>'Kyle Moore'</td>\n",
       "      <td>Language models are known to absorb biases fro...</td>\n",
       "      <td>156</td>\n",
       "    </tr>\n",
       "  </tbody>\n",
       "</table>\n",
       "</div>"
      ],
      "text/plain": [
       "                      id                                              title  \\\n",
       "136233  abs-2408.08541v1         Where is the signal in tokenization space?   \n",
       "136234  abs-2408.08564v1  Collaborative Cross-modal Fusion with Large La...   \n",
       "136235  abs-2408.08624v1  RealMedQA: A pilot biomedical question answeri...   \n",
       "136236  abs-2408.08648v1  Understanding Enthymemes in Argument Maps: Bri...   \n",
       "136237  abs-2408.08651v2  Reasoning Beyond Bias: A Study on Counterfactu...   \n",
       "\n",
       "                                                 category category_code  \\\n",
       "136233  Computation and Language (Natural Language Pro...         cs.CL   \n",
       "136234                              Information Retrieval         cs.IR   \n",
       "136235  Computation and Language (Natural Language Pro...         cs.CL   \n",
       "136236                            Artificial Intelligence         cs.AI   \n",
       "136237  Computation and Language (Natural Language Pro...         cs.CL   \n",
       "\n",
       "       published_date updated_date  \\\n",
       "136233     2024-08-16   2024-08-16   \n",
       "136234     2024-08-16   2024-08-16   \n",
       "136235     2024-08-16   2024-08-16   \n",
       "136236     2024-08-16   2024-08-16   \n",
       "136237     2024-08-16   2024-09-06   \n",
       "\n",
       "                                                  authors  \\\n",
       "136233  ['Renato Lui Geh', 'Honghua Zhang', 'Kareem Ah...   \n",
       "136234  ['Zhongzhou Liu', 'Hao Zhang', 'Kuicai Dong', ...   \n",
       "136235  ['Gregory Kell', 'Angus Roberts', 'Serge Umans...   \n",
       "136236  ['Jonathan Ben-Naim', 'Victor David', 'Anthony...   \n",
       "136237  ['Kyle Moore', 'Jesse Roberts', 'Thao Pham', '...   \n",
       "\n",
       "               first_author  \\\n",
       "136233     'Renato Lui Geh'   \n",
       "136234      'Zhongzhou Liu'   \n",
       "136235       'Gregory Kell'   \n",
       "136236  'Jonathan Ben-Naim'   \n",
       "136237         'Kyle Moore'   \n",
       "\n",
       "                                                  summary  summary_word_count  \n",
       "136233  Large Language Models (LLMs) are typically shi...                 170  \n",
       "136234  Despite the success of conventional collaborat...                 157  \n",
       "136235  Clinical question answering systems have the p...                 153  \n",
       "136236  Argument mining is natural language processing...                 194  \n",
       "136237  Language models are known to absorb biases fro...                 156  "
      ]
     },
     "execution_count": 66,
     "metadata": {},
     "output_type": "execute_result"
    }
   ],
   "source": [
    "papers.tail()"
   ]
  },
  {
   "cell_type": "code",
   "execution_count": 67,
   "metadata": {},
   "outputs": [],
   "source": [
    "papers.published_date = pd.to_datetime(papers.published_date)\n",
    "papers['year'] = papers.published_date.dt.year\n",
    "\n",
    "#Get rid of 2025 (incomplete yearly data)\n",
    "papers = papers.query(\"year != 2025\")"
   ]
  },
  {
   "cell_type": "code",
   "execution_count": 68,
   "metadata": {},
   "outputs": [
    {
     "name": "stdout",
     "output_type": "stream",
     "text": [
      "139\n",
      "138\n"
     ]
    }
   ],
   "source": [
    "print(len(pd.unique(papers.category_code)))\n",
    "print(len(pd.unique(papers.category)))"
   ]
  },
  {
   "cell_type": "code",
   "execution_count": 69,
   "metadata": {},
   "outputs": [],
   "source": [
    "papers.category.info\n",
    "papers['category'] = pd.Categorical(papers.category)\n",
    "papers['category_code'] = pd.Categorical(papers.category_code)\n",
    "papers['first_author'] = pd.Categorical(papers.first_author)"
   ]
  },
  {
   "cell_type": "code",
   "execution_count": 70,
   "metadata": {},
   "outputs": [
    {
     "data": {
      "application/vnd.microsoft.datawrangler.viewer.v0+json": {
       "columns": [
        {
         "name": "index",
         "rawType": "int64",
         "type": "integer"
        },
        {
         "name": "0",
         "rawType": "category",
         "type": "unknown"
        }
       ],
       "conversionMethod": "pd.DataFrame",
       "ref": "53fb374b-be01-4028-9c9a-7f3fe3337080",
       "rows": [
        [
         "0",
         "Artificial Intelligence"
        ],
        [
         "1",
         "Disordered Systems and Neural Networks"
        ],
        [
         "2",
         "Computational Complexity"
        ],
        [
         "3",
         "Logic in Computer Science"
        ],
        [
         "4",
         "Multiagent Systems"
        ],
        [
         "5",
         "Information Retrieval"
        ],
        [
         "6",
         "Robotics"
        ],
        [
         "7",
         "Databases"
        ],
        [
         "8",
         "Machine Learning"
        ],
        [
         "9",
         "Computation and Language (Natural Language Processing)"
        ],
        [
         "10",
         "Programming Languages"
        ],
        [
         "11",
         "Distributed, Parallel, and Cluster Computing"
        ],
        [
         "12",
         "Performance"
        ],
        [
         "13",
         "Neural and Evolutionary Computing"
        ],
        [
         "14",
         "Computational Engineering, Finance, and Science"
        ],
        [
         "15",
         "Computational Geometry"
        ],
        [
         "16",
         "Networking and Internet Architecture"
        ],
        [
         "17",
         "Computer Science and Game Theory"
        ],
        [
         "18",
         "Computer Vision and Pattern Recognition"
        ],
        [
         "19",
         "Human-Computer Interaction"
        ],
        [
         "20",
         "Cryptography and Security"
        ],
        [
         "21",
         "Other Computer Science"
        ],
        [
         "22",
         "Software Engineering"
        ],
        [
         "23",
         "Discrete Mathematics"
        ],
        [
         "24",
         "Mathematical Software"
        ],
        [
         "25",
         "Data Structures and Algorithms"
        ],
        [
         "26",
         "Computers and Society"
        ],
        [
         "27",
         "Logic"
        ],
        [
         "28",
         "Adaptation and Self-Organizing Systems"
        ],
        [
         "29",
         "Quantitative Methods in Biology"
        ],
        [
         "30",
         "Quantum Physics"
        ],
        [
         "31",
         "Digital Libraries"
        ],
        [
         "32",
         "Neurons and Cognition"
        ],
        [
         "33",
         "Graphics"
        ],
        [
         "34",
         "Multimedia"
        ],
        [
         "35",
         "Symbolic Computation"
        ],
        [
         "36",
         "Data Analysis, Statistics and Probability"
        ],
        [
         "37",
         "Machine Learning (Statistics)"
        ],
        [
         "38",
         "Hardware Architecture"
        ],
        [
         "39",
         "Optimization and Control"
        ],
        [
         "40",
         "Systems and Control"
        ],
        [
         "41",
         "Combinatorics"
        ],
        [
         "42",
         "Instrumentation and Methods for Astrophysics"
        ],
        [
         "43",
         "Methodology (Statistics)"
        ],
        [
         "44",
         "Computation (Statistics)"
        ],
        [
         "45",
         "Cosmology and Nongalactic Astrophysics"
        ],
        [
         "46",
         "Social and Information Networks"
        ],
        [
         "47",
         "Risk Management (Quantitative Finance)"
        ],
        [
         "48",
         "Probability"
        ],
        [
         "49",
         "Other Statistics"
        ]
       ],
       "shape": {
        "columns": 1,
        "rows": 138
       }
      },
      "text/html": [
       "<div>\n",
       "<style scoped>\n",
       "    .dataframe tbody tr th:only-of-type {\n",
       "        vertical-align: middle;\n",
       "    }\n",
       "\n",
       "    .dataframe tbody tr th {\n",
       "        vertical-align: top;\n",
       "    }\n",
       "\n",
       "    .dataframe thead th {\n",
       "        text-align: right;\n",
       "    }\n",
       "</style>\n",
       "<table border=\"1\" class=\"dataframe\">\n",
       "  <thead>\n",
       "    <tr style=\"text-align: right;\">\n",
       "      <th></th>\n",
       "      <th>0</th>\n",
       "    </tr>\n",
       "  </thead>\n",
       "  <tbody>\n",
       "    <tr>\n",
       "      <th>0</th>\n",
       "      <td>Artificial Intelligence</td>\n",
       "    </tr>\n",
       "    <tr>\n",
       "      <th>1</th>\n",
       "      <td>Disordered Systems and Neural Networks</td>\n",
       "    </tr>\n",
       "    <tr>\n",
       "      <th>2</th>\n",
       "      <td>Computational Complexity</td>\n",
       "    </tr>\n",
       "    <tr>\n",
       "      <th>3</th>\n",
       "      <td>Logic in Computer Science</td>\n",
       "    </tr>\n",
       "    <tr>\n",
       "      <th>4</th>\n",
       "      <td>Multiagent Systems</td>\n",
       "    </tr>\n",
       "    <tr>\n",
       "      <th>...</th>\n",
       "      <td>...</td>\n",
       "    </tr>\n",
       "    <tr>\n",
       "      <th>133</th>\n",
       "      <td>Superconductivity</td>\n",
       "    </tr>\n",
       "    <tr>\n",
       "      <th>134</th>\n",
       "      <td>Pattern Formation and Solitons</td>\n",
       "    </tr>\n",
       "    <tr>\n",
       "      <th>135</th>\n",
       "      <td>Computation and Language (Legacy category)</td>\n",
       "    </tr>\n",
       "    <tr>\n",
       "      <th>136</th>\n",
       "      <td>Group Theory</td>\n",
       "    </tr>\n",
       "    <tr>\n",
       "      <th>137</th>\n",
       "      <td>History and Philosophy of Physics</td>\n",
       "    </tr>\n",
       "  </tbody>\n",
       "</table>\n",
       "<p>138 rows × 1 columns</p>\n",
       "</div>"
      ],
      "text/plain": [
       "                                              0\n",
       "0                       Artificial Intelligence\n",
       "1        Disordered Systems and Neural Networks\n",
       "2                      Computational Complexity\n",
       "3                     Logic in Computer Science\n",
       "4                            Multiagent Systems\n",
       "..                                          ...\n",
       "133                           Superconductivity\n",
       "134              Pattern Formation and Solitons\n",
       "135  Computation and Language (Legacy category)\n",
       "136                                Group Theory\n",
       "137           History and Philosophy of Physics\n",
       "\n",
       "[138 rows x 1 columns]"
      ]
     },
     "execution_count": 70,
     "metadata": {},
     "output_type": "execute_result"
    }
   ],
   "source": [
    "pd.DataFrame(pd.unique(papers.category))"
   ]
  },
  {
   "cell_type": "code",
   "execution_count": 71,
   "metadata": {},
   "outputs": [],
   "source": [
    "ai = papers.query('category == \"Artificial Intelligence\"').groupby('year')['authors'].size().reset_index()"
   ]
  },
  {
   "cell_type": "code",
   "execution_count": 72,
   "metadata": {},
   "outputs": [
    {
     "data": {
      "application/vnd.plotly.v1+json": {
       "config": {
        "plotlyServerURL": "https://plot.ly"
       },
       "data": [
        {
         "hovertemplate": "year=%{marker.color}<br>authors=%{y}<extra></extra>",
         "legendgroup": "",
         "marker": {
          "color": {
           "bdata": "yQcAAMoHAADLBwAAzAcAAM0HAADOBwAAzwcAANAHAADRBwAA0gcAANMHAADUBwAA1QcAANYHAADXBwAA2AcAANkHAADaBwAA2wcAANwHAADdBwAA3gcAAN8HAADgBwAA4QcAAOIHAADjBwAA5AcAAOUHAADmBwAA5wcAAOgHAAA=",
           "dtype": "i4"
          },
          "coloraxis": "coloraxis",
          "pattern": {
           "shape": ""
          }
         },
         "name": "",
         "orientation": "v",
         "showlegend": false,
         "textposition": "auto",
         "type": "bar",
         "x": {
          "bdata": "yQcAAMoHAADLBwAAzAcAAM0HAADOBwAAzwcAANAHAADRBwAA0gcAANMHAADUBwAA1QcAANYHAADXBwAA2AcAANkHAADaBwAA2wcAANwHAADdBwAA3gcAAN8HAADgBwAA4QcAAOIHAADjBwAA5AcAAOUHAADmBwAA5wcAAOgHAAA=",
          "dtype": "i4"
         },
         "xaxis": "x",
         "y": {
          "bdata": "BgAOABsAHAATABIACQBDABcARABLAEAALgBeADUAcwCpAGkAygHLASoEHAI7AVICUgNGA8UCkwNIBP8DgQUlBg==",
          "dtype": "i2"
         },
         "yaxis": "y"
        }
       ],
       "layout": {
        "barmode": "relative",
        "coloraxis": {
         "colorbar": {
          "title": {
           "text": "year"
          }
         },
         "colorscale": [
          [
           0,
           "#0d0887"
          ],
          [
           0.1111111111111111,
           "#46039f"
          ],
          [
           0.2222222222222222,
           "#7201a8"
          ],
          [
           0.3333333333333333,
           "#9c179e"
          ],
          [
           0.4444444444444444,
           "#bd3786"
          ],
          [
           0.5555555555555556,
           "#d8576b"
          ],
          [
           0.6666666666666666,
           "#ed7953"
          ],
          [
           0.7777777777777778,
           "#fb9f3a"
          ],
          [
           0.8888888888888888,
           "#fdca26"
          ],
          [
           1,
           "#f0f921"
          ]
         ]
        },
        "legend": {
         "tracegroupgap": 0
        },
        "template": {
         "data": {
          "bar": [
           {
            "error_x": {
             "color": "#2a3f5f"
            },
            "error_y": {
             "color": "#2a3f5f"
            },
            "marker": {
             "line": {
              "color": "#E5ECF6",
              "width": 0.5
             },
             "pattern": {
              "fillmode": "overlay",
              "size": 10,
              "solidity": 0.2
             }
            },
            "type": "bar"
           }
          ],
          "barpolar": [
           {
            "marker": {
             "line": {
              "color": "#E5ECF6",
              "width": 0.5
             },
             "pattern": {
              "fillmode": "overlay",
              "size": 10,
              "solidity": 0.2
             }
            },
            "type": "barpolar"
           }
          ],
          "carpet": [
           {
            "aaxis": {
             "endlinecolor": "#2a3f5f",
             "gridcolor": "white",
             "linecolor": "white",
             "minorgridcolor": "white",
             "startlinecolor": "#2a3f5f"
            },
            "baxis": {
             "endlinecolor": "#2a3f5f",
             "gridcolor": "white",
             "linecolor": "white",
             "minorgridcolor": "white",
             "startlinecolor": "#2a3f5f"
            },
            "type": "carpet"
           }
          ],
          "choropleth": [
           {
            "colorbar": {
             "outlinewidth": 0,
             "ticks": ""
            },
            "type": "choropleth"
           }
          ],
          "contour": [
           {
            "colorbar": {
             "outlinewidth": 0,
             "ticks": ""
            },
            "colorscale": [
             [
              0,
              "#0d0887"
             ],
             [
              0.1111111111111111,
              "#46039f"
             ],
             [
              0.2222222222222222,
              "#7201a8"
             ],
             [
              0.3333333333333333,
              "#9c179e"
             ],
             [
              0.4444444444444444,
              "#bd3786"
             ],
             [
              0.5555555555555556,
              "#d8576b"
             ],
             [
              0.6666666666666666,
              "#ed7953"
             ],
             [
              0.7777777777777778,
              "#fb9f3a"
             ],
             [
              0.8888888888888888,
              "#fdca26"
             ],
             [
              1,
              "#f0f921"
             ]
            ],
            "type": "contour"
           }
          ],
          "contourcarpet": [
           {
            "colorbar": {
             "outlinewidth": 0,
             "ticks": ""
            },
            "type": "contourcarpet"
           }
          ],
          "heatmap": [
           {
            "colorbar": {
             "outlinewidth": 0,
             "ticks": ""
            },
            "colorscale": [
             [
              0,
              "#0d0887"
             ],
             [
              0.1111111111111111,
              "#46039f"
             ],
             [
              0.2222222222222222,
              "#7201a8"
             ],
             [
              0.3333333333333333,
              "#9c179e"
             ],
             [
              0.4444444444444444,
              "#bd3786"
             ],
             [
              0.5555555555555556,
              "#d8576b"
             ],
             [
              0.6666666666666666,
              "#ed7953"
             ],
             [
              0.7777777777777778,
              "#fb9f3a"
             ],
             [
              0.8888888888888888,
              "#fdca26"
             ],
             [
              1,
              "#f0f921"
             ]
            ],
            "type": "heatmap"
           }
          ],
          "histogram": [
           {
            "marker": {
             "pattern": {
              "fillmode": "overlay",
              "size": 10,
              "solidity": 0.2
             }
            },
            "type": "histogram"
           }
          ],
          "histogram2d": [
           {
            "colorbar": {
             "outlinewidth": 0,
             "ticks": ""
            },
            "colorscale": [
             [
              0,
              "#0d0887"
             ],
             [
              0.1111111111111111,
              "#46039f"
             ],
             [
              0.2222222222222222,
              "#7201a8"
             ],
             [
              0.3333333333333333,
              "#9c179e"
             ],
             [
              0.4444444444444444,
              "#bd3786"
             ],
             [
              0.5555555555555556,
              "#d8576b"
             ],
             [
              0.6666666666666666,
              "#ed7953"
             ],
             [
              0.7777777777777778,
              "#fb9f3a"
             ],
             [
              0.8888888888888888,
              "#fdca26"
             ],
             [
              1,
              "#f0f921"
             ]
            ],
            "type": "histogram2d"
           }
          ],
          "histogram2dcontour": [
           {
            "colorbar": {
             "outlinewidth": 0,
             "ticks": ""
            },
            "colorscale": [
             [
              0,
              "#0d0887"
             ],
             [
              0.1111111111111111,
              "#46039f"
             ],
             [
              0.2222222222222222,
              "#7201a8"
             ],
             [
              0.3333333333333333,
              "#9c179e"
             ],
             [
              0.4444444444444444,
              "#bd3786"
             ],
             [
              0.5555555555555556,
              "#d8576b"
             ],
             [
              0.6666666666666666,
              "#ed7953"
             ],
             [
              0.7777777777777778,
              "#fb9f3a"
             ],
             [
              0.8888888888888888,
              "#fdca26"
             ],
             [
              1,
              "#f0f921"
             ]
            ],
            "type": "histogram2dcontour"
           }
          ],
          "mesh3d": [
           {
            "colorbar": {
             "outlinewidth": 0,
             "ticks": ""
            },
            "type": "mesh3d"
           }
          ],
          "parcoords": [
           {
            "line": {
             "colorbar": {
              "outlinewidth": 0,
              "ticks": ""
             }
            },
            "type": "parcoords"
           }
          ],
          "pie": [
           {
            "automargin": true,
            "type": "pie"
           }
          ],
          "scatter": [
           {
            "fillpattern": {
             "fillmode": "overlay",
             "size": 10,
             "solidity": 0.2
            },
            "type": "scatter"
           }
          ],
          "scatter3d": [
           {
            "line": {
             "colorbar": {
              "outlinewidth": 0,
              "ticks": ""
             }
            },
            "marker": {
             "colorbar": {
              "outlinewidth": 0,
              "ticks": ""
             }
            },
            "type": "scatter3d"
           }
          ],
          "scattercarpet": [
           {
            "marker": {
             "colorbar": {
              "outlinewidth": 0,
              "ticks": ""
             }
            },
            "type": "scattercarpet"
           }
          ],
          "scattergeo": [
           {
            "marker": {
             "colorbar": {
              "outlinewidth": 0,
              "ticks": ""
             }
            },
            "type": "scattergeo"
           }
          ],
          "scattergl": [
           {
            "marker": {
             "colorbar": {
              "outlinewidth": 0,
              "ticks": ""
             }
            },
            "type": "scattergl"
           }
          ],
          "scattermap": [
           {
            "marker": {
             "colorbar": {
              "outlinewidth": 0,
              "ticks": ""
             }
            },
            "type": "scattermap"
           }
          ],
          "scattermapbox": [
           {
            "marker": {
             "colorbar": {
              "outlinewidth": 0,
              "ticks": ""
             }
            },
            "type": "scattermapbox"
           }
          ],
          "scatterpolar": [
           {
            "marker": {
             "colorbar": {
              "outlinewidth": 0,
              "ticks": ""
             }
            },
            "type": "scatterpolar"
           }
          ],
          "scatterpolargl": [
           {
            "marker": {
             "colorbar": {
              "outlinewidth": 0,
              "ticks": ""
             }
            },
            "type": "scatterpolargl"
           }
          ],
          "scatterternary": [
           {
            "marker": {
             "colorbar": {
              "outlinewidth": 0,
              "ticks": ""
             }
            },
            "type": "scatterternary"
           }
          ],
          "surface": [
           {
            "colorbar": {
             "outlinewidth": 0,
             "ticks": ""
            },
            "colorscale": [
             [
              0,
              "#0d0887"
             ],
             [
              0.1111111111111111,
              "#46039f"
             ],
             [
              0.2222222222222222,
              "#7201a8"
             ],
             [
              0.3333333333333333,
              "#9c179e"
             ],
             [
              0.4444444444444444,
              "#bd3786"
             ],
             [
              0.5555555555555556,
              "#d8576b"
             ],
             [
              0.6666666666666666,
              "#ed7953"
             ],
             [
              0.7777777777777778,
              "#fb9f3a"
             ],
             [
              0.8888888888888888,
              "#fdca26"
             ],
             [
              1,
              "#f0f921"
             ]
            ],
            "type": "surface"
           }
          ],
          "table": [
           {
            "cells": {
             "fill": {
              "color": "#EBF0F8"
             },
             "line": {
              "color": "white"
             }
            },
            "header": {
             "fill": {
              "color": "#C8D4E3"
             },
             "line": {
              "color": "white"
             }
            },
            "type": "table"
           }
          ]
         },
         "layout": {
          "annotationdefaults": {
           "arrowcolor": "#2a3f5f",
           "arrowhead": 0,
           "arrowwidth": 1
          },
          "autotypenumbers": "strict",
          "coloraxis": {
           "colorbar": {
            "outlinewidth": 0,
            "ticks": ""
           }
          },
          "colorscale": {
           "diverging": [
            [
             0,
             "#8e0152"
            ],
            [
             0.1,
             "#c51b7d"
            ],
            [
             0.2,
             "#de77ae"
            ],
            [
             0.3,
             "#f1b6da"
            ],
            [
             0.4,
             "#fde0ef"
            ],
            [
             0.5,
             "#f7f7f7"
            ],
            [
             0.6,
             "#e6f5d0"
            ],
            [
             0.7,
             "#b8e186"
            ],
            [
             0.8,
             "#7fbc41"
            ],
            [
             0.9,
             "#4d9221"
            ],
            [
             1,
             "#276419"
            ]
           ],
           "sequential": [
            [
             0,
             "#0d0887"
            ],
            [
             0.1111111111111111,
             "#46039f"
            ],
            [
             0.2222222222222222,
             "#7201a8"
            ],
            [
             0.3333333333333333,
             "#9c179e"
            ],
            [
             0.4444444444444444,
             "#bd3786"
            ],
            [
             0.5555555555555556,
             "#d8576b"
            ],
            [
             0.6666666666666666,
             "#ed7953"
            ],
            [
             0.7777777777777778,
             "#fb9f3a"
            ],
            [
             0.8888888888888888,
             "#fdca26"
            ],
            [
             1,
             "#f0f921"
            ]
           ],
           "sequentialminus": [
            [
             0,
             "#0d0887"
            ],
            [
             0.1111111111111111,
             "#46039f"
            ],
            [
             0.2222222222222222,
             "#7201a8"
            ],
            [
             0.3333333333333333,
             "#9c179e"
            ],
            [
             0.4444444444444444,
             "#bd3786"
            ],
            [
             0.5555555555555556,
             "#d8576b"
            ],
            [
             0.6666666666666666,
             "#ed7953"
            ],
            [
             0.7777777777777778,
             "#fb9f3a"
            ],
            [
             0.8888888888888888,
             "#fdca26"
            ],
            [
             1,
             "#f0f921"
            ]
           ]
          },
          "colorway": [
           "#636efa",
           "#EF553B",
           "#00cc96",
           "#ab63fa",
           "#FFA15A",
           "#19d3f3",
           "#FF6692",
           "#B6E880",
           "#FF97FF",
           "#FECB52"
          ],
          "font": {
           "color": "#2a3f5f"
          },
          "geo": {
           "bgcolor": "white",
           "lakecolor": "white",
           "landcolor": "#E5ECF6",
           "showlakes": true,
           "showland": true,
           "subunitcolor": "white"
          },
          "hoverlabel": {
           "align": "left"
          },
          "hovermode": "closest",
          "mapbox": {
           "style": "light"
          },
          "paper_bgcolor": "white",
          "plot_bgcolor": "#E5ECF6",
          "polar": {
           "angularaxis": {
            "gridcolor": "white",
            "linecolor": "white",
            "ticks": ""
           },
           "bgcolor": "#E5ECF6",
           "radialaxis": {
            "gridcolor": "white",
            "linecolor": "white",
            "ticks": ""
           }
          },
          "scene": {
           "xaxis": {
            "backgroundcolor": "#E5ECF6",
            "gridcolor": "white",
            "gridwidth": 2,
            "linecolor": "white",
            "showbackground": true,
            "ticks": "",
            "zerolinecolor": "white"
           },
           "yaxis": {
            "backgroundcolor": "#E5ECF6",
            "gridcolor": "white",
            "gridwidth": 2,
            "linecolor": "white",
            "showbackground": true,
            "ticks": "",
            "zerolinecolor": "white"
           },
           "zaxis": {
            "backgroundcolor": "#E5ECF6",
            "gridcolor": "white",
            "gridwidth": 2,
            "linecolor": "white",
            "showbackground": true,
            "ticks": "",
            "zerolinecolor": "white"
           }
          },
          "shapedefaults": {
           "line": {
            "color": "#2a3f5f"
           }
          },
          "ternary": {
           "aaxis": {
            "gridcolor": "white",
            "linecolor": "white",
            "ticks": ""
           },
           "baxis": {
            "gridcolor": "white",
            "linecolor": "white",
            "ticks": ""
           },
           "bgcolor": "#E5ECF6",
           "caxis": {
            "gridcolor": "white",
            "linecolor": "white",
            "ticks": ""
           }
          },
          "title": {
           "x": 0.05
          },
          "xaxis": {
           "automargin": true,
           "gridcolor": "white",
           "linecolor": "white",
           "ticks": "",
           "title": {
            "standoff": 15
           },
           "zerolinecolor": "white",
           "zerolinewidth": 2
          },
          "yaxis": {
           "automargin": true,
           "gridcolor": "white",
           "linecolor": "white",
           "ticks": "",
           "title": {
            "standoff": 15
           },
           "zerolinecolor": "white",
           "zerolinewidth": 2
          }
         }
        },
        "title": {
         "text": "Artifical Intelligence papers published by year"
        },
        "xaxis": {
         "anchor": "y",
         "domain": [
          0,
          1
         ],
         "title": {
          "text": "year"
         }
        },
        "yaxis": {
         "anchor": "x",
         "domain": [
          0,
          1
         ],
         "title": {
          "text": "authors"
         }
        }
       }
      }
     },
     "metadata": {},
     "output_type": "display_data"
    }
   ],
   "source": [
    "px.bar(ai, x='year', y = 'authors', color = 'year', title=\"Artifical Intelligence papers published by year\")"
   ]
  },
  {
   "cell_type": "code",
   "execution_count": 73,
   "metadata": {},
   "outputs": [
    {
     "data": {
      "application/vnd.microsoft.datawrangler.viewer.v0+json": {
       "columns": [
        {
         "name": "index",
         "rawType": "int64",
         "type": "integer"
        },
        {
         "name": "0",
         "rawType": "category",
         "type": "unknown"
        }
       ],
       "conversionMethod": "pd.DataFrame",
       "ref": "2427a860-a081-4ef9-a489-338a399e32ca",
       "rows": [
        [
         "0",
         "Artificial Intelligence"
        ],
        [
         "1",
         "Disordered Systems and Neural Networks"
        ],
        [
         "2",
         "Computational Complexity"
        ],
        [
         "3",
         "Logic in Computer Science"
        ],
        [
         "4",
         "Multiagent Systems"
        ],
        [
         "5",
         "Information Retrieval"
        ],
        [
         "6",
         "Robotics"
        ],
        [
         "7",
         "Databases"
        ],
        [
         "8",
         "Machine Learning"
        ],
        [
         "9",
         "Computation and Language (Natural Language Processing)"
        ],
        [
         "10",
         "Programming Languages"
        ],
        [
         "11",
         "Distributed, Parallel, and Cluster Computing"
        ],
        [
         "12",
         "Performance"
        ],
        [
         "13",
         "Neural and Evolutionary Computing"
        ],
        [
         "14",
         "Computational Engineering, Finance, and Science"
        ],
        [
         "15",
         "Computational Geometry"
        ],
        [
         "16",
         "Networking and Internet Architecture"
        ],
        [
         "17",
         "Computer Science and Game Theory"
        ],
        [
         "18",
         "Computer Vision and Pattern Recognition"
        ],
        [
         "19",
         "Human-Computer Interaction"
        ],
        [
         "20",
         "Cryptography and Security"
        ],
        [
         "21",
         "Other Computer Science"
        ],
        [
         "22",
         "Software Engineering"
        ],
        [
         "23",
         "Discrete Mathematics"
        ],
        [
         "24",
         "Mathematical Software"
        ],
        [
         "25",
         "Data Structures and Algorithms"
        ],
        [
         "26",
         "Computers and Society"
        ],
        [
         "27",
         "Logic"
        ],
        [
         "28",
         "Adaptation and Self-Organizing Systems"
        ],
        [
         "29",
         "Quantitative Methods in Biology"
        ],
        [
         "30",
         "Quantum Physics"
        ],
        [
         "31",
         "Digital Libraries"
        ],
        [
         "32",
         "Neurons and Cognition"
        ],
        [
         "33",
         "Graphics"
        ],
        [
         "34",
         "Multimedia"
        ],
        [
         "35",
         "Symbolic Computation"
        ],
        [
         "36",
         "Data Analysis, Statistics and Probability"
        ],
        [
         "37",
         "Machine Learning (Statistics)"
        ],
        [
         "38",
         "Hardware Architecture"
        ],
        [
         "39",
         "Optimization and Control"
        ],
        [
         "40",
         "Systems and Control"
        ],
        [
         "41",
         "Combinatorics"
        ],
        [
         "42",
         "Instrumentation and Methods for Astrophysics"
        ],
        [
         "43",
         "Methodology (Statistics)"
        ],
        [
         "44",
         "Computation (Statistics)"
        ],
        [
         "45",
         "Cosmology and Nongalactic Astrophysics"
        ],
        [
         "46",
         "Social and Information Networks"
        ],
        [
         "47",
         "Risk Management (Quantitative Finance)"
        ],
        [
         "48",
         "Probability"
        ],
        [
         "49",
         "Other Statistics"
        ]
       ],
       "shape": {
        "columns": 1,
        "rows": 138
       }
      },
      "text/html": [
       "<div>\n",
       "<style scoped>\n",
       "    .dataframe tbody tr th:only-of-type {\n",
       "        vertical-align: middle;\n",
       "    }\n",
       "\n",
       "    .dataframe tbody tr th {\n",
       "        vertical-align: top;\n",
       "    }\n",
       "\n",
       "    .dataframe thead th {\n",
       "        text-align: right;\n",
       "    }\n",
       "</style>\n",
       "<table border=\"1\" class=\"dataframe\">\n",
       "  <thead>\n",
       "    <tr style=\"text-align: right;\">\n",
       "      <th></th>\n",
       "      <th>0</th>\n",
       "    </tr>\n",
       "  </thead>\n",
       "  <tbody>\n",
       "    <tr>\n",
       "      <th>0</th>\n",
       "      <td>Artificial Intelligence</td>\n",
       "    </tr>\n",
       "    <tr>\n",
       "      <th>1</th>\n",
       "      <td>Disordered Systems and Neural Networks</td>\n",
       "    </tr>\n",
       "    <tr>\n",
       "      <th>2</th>\n",
       "      <td>Computational Complexity</td>\n",
       "    </tr>\n",
       "    <tr>\n",
       "      <th>3</th>\n",
       "      <td>Logic in Computer Science</td>\n",
       "    </tr>\n",
       "    <tr>\n",
       "      <th>4</th>\n",
       "      <td>Multiagent Systems</td>\n",
       "    </tr>\n",
       "    <tr>\n",
       "      <th>...</th>\n",
       "      <td>...</td>\n",
       "    </tr>\n",
       "    <tr>\n",
       "      <th>133</th>\n",
       "      <td>Superconductivity</td>\n",
       "    </tr>\n",
       "    <tr>\n",
       "      <th>134</th>\n",
       "      <td>Pattern Formation and Solitons</td>\n",
       "    </tr>\n",
       "    <tr>\n",
       "      <th>135</th>\n",
       "      <td>Computation and Language (Legacy category)</td>\n",
       "    </tr>\n",
       "    <tr>\n",
       "      <th>136</th>\n",
       "      <td>Group Theory</td>\n",
       "    </tr>\n",
       "    <tr>\n",
       "      <th>137</th>\n",
       "      <td>History and Philosophy of Physics</td>\n",
       "    </tr>\n",
       "  </tbody>\n",
       "</table>\n",
       "<p>138 rows × 1 columns</p>\n",
       "</div>"
      ],
      "text/plain": [
       "                                              0\n",
       "0                       Artificial Intelligence\n",
       "1        Disordered Systems and Neural Networks\n",
       "2                      Computational Complexity\n",
       "3                     Logic in Computer Science\n",
       "4                            Multiagent Systems\n",
       "..                                          ...\n",
       "133                           Superconductivity\n",
       "134              Pattern Formation and Solitons\n",
       "135  Computation and Language (Legacy category)\n",
       "136                                Group Theory\n",
       "137           History and Philosophy of Physics\n",
       "\n",
       "[138 rows x 1 columns]"
      ]
     },
     "execution_count": 73,
     "metadata": {},
     "output_type": "execute_result"
    }
   ],
   "source": [
    "categories = pd.Series(pd.unique(papers.category))\n",
    "pd.DataFrame(categories)"
   ]
  },
  {
   "cell_type": "code",
   "execution_count": 74,
   "metadata": {},
   "outputs": [
    {
     "data": {
      "text/plain": [
       "36     Data Analysis, Statistics and Probability\n",
       "37                 Machine Learning (Statistics)\n",
       "43                      Methodology (Statistics)\n",
       "44                      Computation (Statistics)\n",
       "49                              Other Statistics\n",
       "51                     Applications (Statistics)\n",
       "124                            Statistics Theory\n",
       "dtype: category\n",
       "Categories (138, object): ['Accelerator Physics', 'Adaptation and Self-Organizing Systems', 'Algebraic Geometry', 'Algebraic Topology', ..., 'Systems and Control', 'Systems and Control (Electrical Engineering a..., 'Tissues and Organs', 'Trading and Market Microstructure']"
      ]
     },
     "execution_count": 74,
     "metadata": {},
     "output_type": "execute_result"
    }
   ],
   "source": [
    "stats_topics = pd.Series(categories[categories.astype(str).str.contains(\"Statistics\")])\n",
    "stats_topics"
   ]
  },
  {
   "cell_type": "code",
   "execution_count": 75,
   "metadata": {},
   "outputs": [
    {
     "name": "stderr",
     "output_type": "stream",
     "text": [
      "/tmp/ipykernel_4495/3480562809.py:1: FutureWarning:\n",
      "\n",
      "The default of observed=False is deprecated and will be changed to True in a future version of pandas. Pass observed=False to retain current behavior or observed=True to adopt the future default and silence this warning.\n",
      "\n"
     ]
    }
   ],
   "source": [
    "stats_papers = papers.query('category.isin(@stats_topics)').groupby(['year', 'category']).size().reset_index(name='count').query(\"count > 0\")"
   ]
  },
  {
   "cell_type": "code",
   "execution_count": 76,
   "metadata": {},
   "outputs": [
    {
     "data": {
      "application/vnd.microsoft.datawrangler.viewer.v0+json": {
       "columns": [
        {
         "name": "index",
         "rawType": "int64",
         "type": "integer"
        },
        {
         "name": "year",
         "rawType": "int32",
         "type": "integer"
        },
        {
         "name": "category",
         "rawType": "category",
         "type": "unknown"
        },
        {
         "name": "count",
         "rawType": "int64",
         "type": "integer"
        }
       ],
       "conversionMethod": "pd.DataFrame",
       "ref": "101e0960-6fb4-4ed9-a5d0-d5a94efa777b",
       "rows": [
        [
         "130",
         "2005",
         "Statistics Theory",
         "1"
        ],
        [
         "143",
         "2007",
         "Applications (Statistics)",
         "1"
        ],
        [
         "173",
         "2007",
         "Data Analysis, Statistics and Probability",
         "1"
        ],
        [
         "218",
         "2007",
         "Machine Learning (Statistics)",
         "21"
        ],
        [
         "225",
         "2007",
         "Methodology (Statistics)",
         "4"
        ],
        [
         "268",
         "2007",
         "Statistics Theory",
         "8"
        ],
        [
         "281",
         "2008",
         "Applications (Statistics)",
         "2"
        ],
        [
         "298",
         "2008",
         "Computation (Statistics)",
         "3"
        ],
        [
         "311",
         "2008",
         "Data Analysis, Statistics and Probability",
         "2"
        ],
        [
         "356",
         "2008",
         "Machine Learning (Statistics)",
         "51"
        ],
        [
         "363",
         "2008",
         "Methodology (Statistics)",
         "10"
        ],
        [
         "406",
         "2008",
         "Statistics Theory",
         "10"
        ],
        [
         "419",
         "2009",
         "Applications (Statistics)",
         "2"
        ],
        [
         "436",
         "2009",
         "Computation (Statistics)",
         "4"
        ],
        [
         "449",
         "2009",
         "Data Analysis, Statistics and Probability",
         "1"
        ],
        [
         "494",
         "2009",
         "Machine Learning (Statistics)",
         "104"
        ],
        [
         "501",
         "2009",
         "Methodology (Statistics)",
         "9"
        ],
        [
         "544",
         "2009",
         "Statistics Theory",
         "11"
        ],
        [
         "557",
         "2010",
         "Applications (Statistics)",
         "1"
        ],
        [
         "574",
         "2010",
         "Computation (Statistics)",
         "2"
        ],
        [
         "587",
         "2010",
         "Data Analysis, Statistics and Probability",
         "1"
        ],
        [
         "632",
         "2010",
         "Machine Learning (Statistics)",
         "115"
        ],
        [
         "639",
         "2010",
         "Methodology (Statistics)",
         "17"
        ],
        [
         "682",
         "2010",
         "Statistics Theory",
         "2"
        ],
        [
         "695",
         "2011",
         "Applications (Statistics)",
         "2"
        ],
        [
         "712",
         "2011",
         "Computation (Statistics)",
         "6"
        ],
        [
         "770",
         "2011",
         "Machine Learning (Statistics)",
         "134"
        ],
        [
         "777",
         "2011",
         "Methodology (Statistics)",
         "14"
        ],
        [
         "794",
         "2011",
         "Other Statistics",
         "1"
        ],
        [
         "833",
         "2012",
         "Applications (Statistics)",
         "10"
        ],
        [
         "850",
         "2012",
         "Computation (Statistics)",
         "13"
        ],
        [
         "863",
         "2012",
         "Data Analysis, Statistics and Probability",
         "3"
        ],
        [
         "908",
         "2012",
         "Machine Learning (Statistics)",
         "251"
        ],
        [
         "915",
         "2012",
         "Methodology (Statistics)",
         "44"
        ],
        [
         "958",
         "2012",
         "Statistics Theory",
         "16"
        ],
        [
         "971",
         "2013",
         "Applications (Statistics)",
         "3"
        ],
        [
         "988",
         "2013",
         "Computation (Statistics)",
         "8"
        ],
        [
         "1001",
         "2013",
         "Data Analysis, Statistics and Probability",
         "1"
        ],
        [
         "1046",
         "2013",
         "Machine Learning (Statistics)",
         "295"
        ],
        [
         "1053",
         "2013",
         "Methodology (Statistics)",
         "20"
        ],
        [
         "1070",
         "2013",
         "Other Statistics",
         "1"
        ],
        [
         "1096",
         "2013",
         "Statistics Theory",
         "1"
        ],
        [
         "1109",
         "2014",
         "Applications (Statistics)",
         "6"
        ],
        [
         "1126",
         "2014",
         "Computation (Statistics)",
         "21"
        ],
        [
         "1139",
         "2014",
         "Data Analysis, Statistics and Probability",
         "4"
        ],
        [
         "1184",
         "2014",
         "Machine Learning (Statistics)",
         "410"
        ],
        [
         "1191",
         "2014",
         "Methodology (Statistics)",
         "33"
        ],
        [
         "1234",
         "2014",
         "Statistics Theory",
         "10"
        ],
        [
         "1247",
         "2015",
         "Applications (Statistics)",
         "12"
        ],
        [
         "1264",
         "2015",
         "Computation (Statistics)",
         "25"
        ]
       ],
       "shape": {
        "columns": 3,
        "rows": 112
       }
      },
      "text/html": [
       "<div>\n",
       "<style scoped>\n",
       "    .dataframe tbody tr th:only-of-type {\n",
       "        vertical-align: middle;\n",
       "    }\n",
       "\n",
       "    .dataframe tbody tr th {\n",
       "        vertical-align: top;\n",
       "    }\n",
       "\n",
       "    .dataframe thead th {\n",
       "        text-align: right;\n",
       "    }\n",
       "</style>\n",
       "<table border=\"1\" class=\"dataframe\">\n",
       "  <thead>\n",
       "    <tr style=\"text-align: right;\">\n",
       "      <th></th>\n",
       "      <th>year</th>\n",
       "      <th>category</th>\n",
       "      <th>count</th>\n",
       "    </tr>\n",
       "  </thead>\n",
       "  <tbody>\n",
       "    <tr>\n",
       "      <th>130</th>\n",
       "      <td>2005</td>\n",
       "      <td>Statistics Theory</td>\n",
       "      <td>1</td>\n",
       "    </tr>\n",
       "    <tr>\n",
       "      <th>143</th>\n",
       "      <td>2007</td>\n",
       "      <td>Applications (Statistics)</td>\n",
       "      <td>1</td>\n",
       "    </tr>\n",
       "    <tr>\n",
       "      <th>173</th>\n",
       "      <td>2007</td>\n",
       "      <td>Data Analysis, Statistics and Probability</td>\n",
       "      <td>1</td>\n",
       "    </tr>\n",
       "    <tr>\n",
       "      <th>218</th>\n",
       "      <td>2007</td>\n",
       "      <td>Machine Learning (Statistics)</td>\n",
       "      <td>21</td>\n",
       "    </tr>\n",
       "    <tr>\n",
       "      <th>225</th>\n",
       "      <td>2007</td>\n",
       "      <td>Methodology (Statistics)</td>\n",
       "      <td>4</td>\n",
       "    </tr>\n",
       "    <tr>\n",
       "      <th>...</th>\n",
       "      <td>...</td>\n",
       "      <td>...</td>\n",
       "      <td>...</td>\n",
       "    </tr>\n",
       "    <tr>\n",
       "      <th>2506</th>\n",
       "      <td>2024</td>\n",
       "      <td>Computation (Statistics)</td>\n",
       "      <td>14</td>\n",
       "    </tr>\n",
       "    <tr>\n",
       "      <th>2519</th>\n",
       "      <td>2024</td>\n",
       "      <td>Data Analysis, Statistics and Probability</td>\n",
       "      <td>1</td>\n",
       "    </tr>\n",
       "    <tr>\n",
       "      <th>2564</th>\n",
       "      <td>2024</td>\n",
       "      <td>Machine Learning (Statistics)</td>\n",
       "      <td>645</td>\n",
       "    </tr>\n",
       "    <tr>\n",
       "      <th>2571</th>\n",
       "      <td>2024</td>\n",
       "      <td>Methodology (Statistics)</td>\n",
       "      <td>87</td>\n",
       "    </tr>\n",
       "    <tr>\n",
       "      <th>2614</th>\n",
       "      <td>2024</td>\n",
       "      <td>Statistics Theory</td>\n",
       "      <td>1</td>\n",
       "    </tr>\n",
       "  </tbody>\n",
       "</table>\n",
       "<p>112 rows × 3 columns</p>\n",
       "</div>"
      ],
      "text/plain": [
       "      year                                   category  count\n",
       "130   2005                          Statistics Theory      1\n",
       "143   2007                  Applications (Statistics)      1\n",
       "173   2007  Data Analysis, Statistics and Probability      1\n",
       "218   2007              Machine Learning (Statistics)     21\n",
       "225   2007                   Methodology (Statistics)      4\n",
       "...    ...                                        ...    ...\n",
       "2506  2024                   Computation (Statistics)     14\n",
       "2519  2024  Data Analysis, Statistics and Probability      1\n",
       "2564  2024              Machine Learning (Statistics)    645\n",
       "2571  2024                   Methodology (Statistics)     87\n",
       "2614  2024                          Statistics Theory      1\n",
       "\n",
       "[112 rows x 3 columns]"
      ]
     },
     "execution_count": 76,
     "metadata": {},
     "output_type": "execute_result"
    }
   ],
   "source": [
    "stats_papers"
   ]
  },
  {
   "cell_type": "code",
   "execution_count": 77,
   "metadata": {},
   "outputs": [
    {
     "data": {
      "application/vnd.plotly.v1+json": {
       "config": {
        "plotlyServerURL": "https://plot.ly"
       },
       "data": [
        {
         "hovertemplate": "category=Statistics Theory<br>year=%{x}<br>count=%{y}<extra></extra>",
         "legendgroup": "Statistics Theory",
         "marker": {
          "color": "#636efa",
          "pattern": {
           "shape": ""
          }
         },
         "name": "Statistics Theory",
         "orientation": "v",
         "showlegend": true,
         "textposition": "auto",
         "type": "bar",
         "x": {
          "bdata": "1QcAANcHAADYBwAA2QcAANoHAADcBwAA3QcAAN4HAADfBwAA4AcAAOEHAADiBwAA4wcAAOQHAADlBwAA5gcAAOcHAADoBwAA",
          "dtype": "i4"
         },
         "xaxis": "x",
         "y": {
          "bdata": "AQgKCwIQAQoMChUbLCcKCgIB",
          "dtype": "i1"
         },
         "yaxis": "y"
        },
        {
         "hovertemplate": "category=Applications (Statistics)<br>year=%{x}<br>count=%{y}<extra></extra>",
         "legendgroup": "Applications (Statistics)",
         "marker": {
          "color": "#EF553B",
          "pattern": {
           "shape": ""
          }
         },
         "name": "Applications (Statistics)",
         "orientation": "v",
         "showlegend": true,
         "textposition": "auto",
         "type": "bar",
         "x": {
          "bdata": "1wcAANgHAADZBwAA2gcAANsHAADcBwAA3QcAAN4HAADfBwAA4AcAAOEHAADiBwAA4wcAAOQHAADlBwAA5gcAAOcHAADoBwAA",
          "dtype": "i4"
         },
         "xaxis": "x",
         "y": {
          "bdata": "AQICAQIKAwYMIxgfJjEVEAsO",
          "dtype": "i1"
         },
         "yaxis": "y"
        },
        {
         "hovertemplate": "category=Data Analysis, Statistics and Probability<br>year=%{x}<br>count=%{y}<extra></extra>",
         "legendgroup": "Data Analysis, Statistics and Probability",
         "marker": {
          "color": "#00cc96",
          "pattern": {
           "shape": ""
          }
         },
         "name": "Data Analysis, Statistics and Probability",
         "orientation": "v",
         "showlegend": true,
         "textposition": "auto",
         "type": "bar",
         "x": {
          "bdata": "1wcAANgHAADZBwAA2gcAANwHAADdBwAA3gcAAN8HAADgBwAA4QcAAOIHAADjBwAA5AcAAOUHAADmBwAA5wcAAOgHAAA=",
          "dtype": "i4"
         },
         "xaxis": "x",
         "y": {
          "bdata": "AQIBAQMBBAIEAgUHBQIBAQE=",
          "dtype": "i1"
         },
         "yaxis": "y"
        },
        {
         "hovertemplate": "category=Machine Learning (Statistics)<br>year=%{x}<br>count=%{y}<extra></extra>",
         "legendgroup": "Machine Learning (Statistics)",
         "marker": {
          "color": "#ab63fa",
          "pattern": {
           "shape": ""
          }
         },
         "name": "Machine Learning (Statistics)",
         "orientation": "v",
         "showlegend": true,
         "textposition": "auto",
         "type": "bar",
         "x": {
          "bdata": "1wcAANgHAADZBwAA2gcAANsHAADcBwAA3QcAAN4HAADfBwAA4AcAAOEHAADiBwAA4wcAAOQHAADlBwAA5gcAAOcHAADoBwAA",
          "dtype": "i4"
         },
         "xaxis": "x",
         "y": {
          "bdata": "FQAzAGgAcwCGAPsAJwGaAWQCjwPOBO4FAwRIBOkCswICAoUC",
          "dtype": "i2"
         },
         "yaxis": "y"
        },
        {
         "hovertemplate": "category=Methodology (Statistics)<br>year=%{x}<br>count=%{y}<extra></extra>",
         "legendgroup": "Methodology (Statistics)",
         "marker": {
          "color": "#FFA15A",
          "pattern": {
           "shape": ""
          }
         },
         "name": "Methodology (Statistics)",
         "orientation": "v",
         "showlegend": true,
         "textposition": "auto",
         "type": "bar",
         "x": {
          "bdata": "1wcAANgHAADZBwAA2gcAANsHAADcBwAA3QcAAN4HAADfBwAA4AcAAOEHAADiBwAA4wcAAOQHAADlBwAA5gcAAOcHAADoBwAA",
          "dtype": "i4"
         },
         "xaxis": "x",
         "y": {
          "bdata": "BAAKAAkAEQAOACwAFAAhABkANgA9ADkASQCCAFcAYAA7AFcA",
          "dtype": "i2"
         },
         "yaxis": "y"
        },
        {
         "hovertemplate": "category=Computation (Statistics)<br>year=%{x}<br>count=%{y}<extra></extra>",
         "legendgroup": "Computation (Statistics)",
         "marker": {
          "color": "#19d3f3",
          "pattern": {
           "shape": ""
          }
         },
         "name": "Computation (Statistics)",
         "orientation": "v",
         "showlegend": true,
         "textposition": "auto",
         "type": "bar",
         "x": {
          "bdata": "2AcAANkHAADaBwAA2wcAANwHAADdBwAA3gcAAN8HAADgBwAA4QcAAOIHAADjBwAA5AcAAOUHAADmBwAA5wcAAOgHAAA=",
          "dtype": "i4"
         },
         "xaxis": "x",
         "y": {
          "bdata": "AwQCBg0IFRkbEyMfEwgLBQ4=",
          "dtype": "i1"
         },
         "yaxis": "y"
        },
        {
         "hovertemplate": "category=Other Statistics<br>year=%{x}<br>count=%{y}<extra></extra>",
         "legendgroup": "Other Statistics",
         "marker": {
          "color": "#FF6692",
          "pattern": {
           "shape": ""
          }
         },
         "name": "Other Statistics",
         "orientation": "v",
         "showlegend": true,
         "textposition": "auto",
         "type": "bar",
         "x": {
          "bdata": "2wcAAN0HAADhBwAA4wcAAOQHAADlBwAA",
          "dtype": "i4"
         },
         "xaxis": "x",
         "y": {
          "bdata": "AQECAwEB",
          "dtype": "i1"
         },
         "yaxis": "y"
        }
       ],
       "layout": {
        "barmode": "relative",
        "legend": {
         "title": {
          "text": "category"
         },
         "tracegroupgap": 0
        },
        "template": {
         "data": {
          "bar": [
           {
            "error_x": {
             "color": "#2a3f5f"
            },
            "error_y": {
             "color": "#2a3f5f"
            },
            "marker": {
             "line": {
              "color": "#E5ECF6",
              "width": 0.5
             },
             "pattern": {
              "fillmode": "overlay",
              "size": 10,
              "solidity": 0.2
             }
            },
            "type": "bar"
           }
          ],
          "barpolar": [
           {
            "marker": {
             "line": {
              "color": "#E5ECF6",
              "width": 0.5
             },
             "pattern": {
              "fillmode": "overlay",
              "size": 10,
              "solidity": 0.2
             }
            },
            "type": "barpolar"
           }
          ],
          "carpet": [
           {
            "aaxis": {
             "endlinecolor": "#2a3f5f",
             "gridcolor": "white",
             "linecolor": "white",
             "minorgridcolor": "white",
             "startlinecolor": "#2a3f5f"
            },
            "baxis": {
             "endlinecolor": "#2a3f5f",
             "gridcolor": "white",
             "linecolor": "white",
             "minorgridcolor": "white",
             "startlinecolor": "#2a3f5f"
            },
            "type": "carpet"
           }
          ],
          "choropleth": [
           {
            "colorbar": {
             "outlinewidth": 0,
             "ticks": ""
            },
            "type": "choropleth"
           }
          ],
          "contour": [
           {
            "colorbar": {
             "outlinewidth": 0,
             "ticks": ""
            },
            "colorscale": [
             [
              0,
              "#0d0887"
             ],
             [
              0.1111111111111111,
              "#46039f"
             ],
             [
              0.2222222222222222,
              "#7201a8"
             ],
             [
              0.3333333333333333,
              "#9c179e"
             ],
             [
              0.4444444444444444,
              "#bd3786"
             ],
             [
              0.5555555555555556,
              "#d8576b"
             ],
             [
              0.6666666666666666,
              "#ed7953"
             ],
             [
              0.7777777777777778,
              "#fb9f3a"
             ],
             [
              0.8888888888888888,
              "#fdca26"
             ],
             [
              1,
              "#f0f921"
             ]
            ],
            "type": "contour"
           }
          ],
          "contourcarpet": [
           {
            "colorbar": {
             "outlinewidth": 0,
             "ticks": ""
            },
            "type": "contourcarpet"
           }
          ],
          "heatmap": [
           {
            "colorbar": {
             "outlinewidth": 0,
             "ticks": ""
            },
            "colorscale": [
             [
              0,
              "#0d0887"
             ],
             [
              0.1111111111111111,
              "#46039f"
             ],
             [
              0.2222222222222222,
              "#7201a8"
             ],
             [
              0.3333333333333333,
              "#9c179e"
             ],
             [
              0.4444444444444444,
              "#bd3786"
             ],
             [
              0.5555555555555556,
              "#d8576b"
             ],
             [
              0.6666666666666666,
              "#ed7953"
             ],
             [
              0.7777777777777778,
              "#fb9f3a"
             ],
             [
              0.8888888888888888,
              "#fdca26"
             ],
             [
              1,
              "#f0f921"
             ]
            ],
            "type": "heatmap"
           }
          ],
          "histogram": [
           {
            "marker": {
             "pattern": {
              "fillmode": "overlay",
              "size": 10,
              "solidity": 0.2
             }
            },
            "type": "histogram"
           }
          ],
          "histogram2d": [
           {
            "colorbar": {
             "outlinewidth": 0,
             "ticks": ""
            },
            "colorscale": [
             [
              0,
              "#0d0887"
             ],
             [
              0.1111111111111111,
              "#46039f"
             ],
             [
              0.2222222222222222,
              "#7201a8"
             ],
             [
              0.3333333333333333,
              "#9c179e"
             ],
             [
              0.4444444444444444,
              "#bd3786"
             ],
             [
              0.5555555555555556,
              "#d8576b"
             ],
             [
              0.6666666666666666,
              "#ed7953"
             ],
             [
              0.7777777777777778,
              "#fb9f3a"
             ],
             [
              0.8888888888888888,
              "#fdca26"
             ],
             [
              1,
              "#f0f921"
             ]
            ],
            "type": "histogram2d"
           }
          ],
          "histogram2dcontour": [
           {
            "colorbar": {
             "outlinewidth": 0,
             "ticks": ""
            },
            "colorscale": [
             [
              0,
              "#0d0887"
             ],
             [
              0.1111111111111111,
              "#46039f"
             ],
             [
              0.2222222222222222,
              "#7201a8"
             ],
             [
              0.3333333333333333,
              "#9c179e"
             ],
             [
              0.4444444444444444,
              "#bd3786"
             ],
             [
              0.5555555555555556,
              "#d8576b"
             ],
             [
              0.6666666666666666,
              "#ed7953"
             ],
             [
              0.7777777777777778,
              "#fb9f3a"
             ],
             [
              0.8888888888888888,
              "#fdca26"
             ],
             [
              1,
              "#f0f921"
             ]
            ],
            "type": "histogram2dcontour"
           }
          ],
          "mesh3d": [
           {
            "colorbar": {
             "outlinewidth": 0,
             "ticks": ""
            },
            "type": "mesh3d"
           }
          ],
          "parcoords": [
           {
            "line": {
             "colorbar": {
              "outlinewidth": 0,
              "ticks": ""
             }
            },
            "type": "parcoords"
           }
          ],
          "pie": [
           {
            "automargin": true,
            "type": "pie"
           }
          ],
          "scatter": [
           {
            "fillpattern": {
             "fillmode": "overlay",
             "size": 10,
             "solidity": 0.2
            },
            "type": "scatter"
           }
          ],
          "scatter3d": [
           {
            "line": {
             "colorbar": {
              "outlinewidth": 0,
              "ticks": ""
             }
            },
            "marker": {
             "colorbar": {
              "outlinewidth": 0,
              "ticks": ""
             }
            },
            "type": "scatter3d"
           }
          ],
          "scattercarpet": [
           {
            "marker": {
             "colorbar": {
              "outlinewidth": 0,
              "ticks": ""
             }
            },
            "type": "scattercarpet"
           }
          ],
          "scattergeo": [
           {
            "marker": {
             "colorbar": {
              "outlinewidth": 0,
              "ticks": ""
             }
            },
            "type": "scattergeo"
           }
          ],
          "scattergl": [
           {
            "marker": {
             "colorbar": {
              "outlinewidth": 0,
              "ticks": ""
             }
            },
            "type": "scattergl"
           }
          ],
          "scattermap": [
           {
            "marker": {
             "colorbar": {
              "outlinewidth": 0,
              "ticks": ""
             }
            },
            "type": "scattermap"
           }
          ],
          "scattermapbox": [
           {
            "marker": {
             "colorbar": {
              "outlinewidth": 0,
              "ticks": ""
             }
            },
            "type": "scattermapbox"
           }
          ],
          "scatterpolar": [
           {
            "marker": {
             "colorbar": {
              "outlinewidth": 0,
              "ticks": ""
             }
            },
            "type": "scatterpolar"
           }
          ],
          "scatterpolargl": [
           {
            "marker": {
             "colorbar": {
              "outlinewidth": 0,
              "ticks": ""
             }
            },
            "type": "scatterpolargl"
           }
          ],
          "scatterternary": [
           {
            "marker": {
             "colorbar": {
              "outlinewidth": 0,
              "ticks": ""
             }
            },
            "type": "scatterternary"
           }
          ],
          "surface": [
           {
            "colorbar": {
             "outlinewidth": 0,
             "ticks": ""
            },
            "colorscale": [
             [
              0,
              "#0d0887"
             ],
             [
              0.1111111111111111,
              "#46039f"
             ],
             [
              0.2222222222222222,
              "#7201a8"
             ],
             [
              0.3333333333333333,
              "#9c179e"
             ],
             [
              0.4444444444444444,
              "#bd3786"
             ],
             [
              0.5555555555555556,
              "#d8576b"
             ],
             [
              0.6666666666666666,
              "#ed7953"
             ],
             [
              0.7777777777777778,
              "#fb9f3a"
             ],
             [
              0.8888888888888888,
              "#fdca26"
             ],
             [
              1,
              "#f0f921"
             ]
            ],
            "type": "surface"
           }
          ],
          "table": [
           {
            "cells": {
             "fill": {
              "color": "#EBF0F8"
             },
             "line": {
              "color": "white"
             }
            },
            "header": {
             "fill": {
              "color": "#C8D4E3"
             },
             "line": {
              "color": "white"
             }
            },
            "type": "table"
           }
          ]
         },
         "layout": {
          "annotationdefaults": {
           "arrowcolor": "#2a3f5f",
           "arrowhead": 0,
           "arrowwidth": 1
          },
          "autotypenumbers": "strict",
          "coloraxis": {
           "colorbar": {
            "outlinewidth": 0,
            "ticks": ""
           }
          },
          "colorscale": {
           "diverging": [
            [
             0,
             "#8e0152"
            ],
            [
             0.1,
             "#c51b7d"
            ],
            [
             0.2,
             "#de77ae"
            ],
            [
             0.3,
             "#f1b6da"
            ],
            [
             0.4,
             "#fde0ef"
            ],
            [
             0.5,
             "#f7f7f7"
            ],
            [
             0.6,
             "#e6f5d0"
            ],
            [
             0.7,
             "#b8e186"
            ],
            [
             0.8,
             "#7fbc41"
            ],
            [
             0.9,
             "#4d9221"
            ],
            [
             1,
             "#276419"
            ]
           ],
           "sequential": [
            [
             0,
             "#0d0887"
            ],
            [
             0.1111111111111111,
             "#46039f"
            ],
            [
             0.2222222222222222,
             "#7201a8"
            ],
            [
             0.3333333333333333,
             "#9c179e"
            ],
            [
             0.4444444444444444,
             "#bd3786"
            ],
            [
             0.5555555555555556,
             "#d8576b"
            ],
            [
             0.6666666666666666,
             "#ed7953"
            ],
            [
             0.7777777777777778,
             "#fb9f3a"
            ],
            [
             0.8888888888888888,
             "#fdca26"
            ],
            [
             1,
             "#f0f921"
            ]
           ],
           "sequentialminus": [
            [
             0,
             "#0d0887"
            ],
            [
             0.1111111111111111,
             "#46039f"
            ],
            [
             0.2222222222222222,
             "#7201a8"
            ],
            [
             0.3333333333333333,
             "#9c179e"
            ],
            [
             0.4444444444444444,
             "#bd3786"
            ],
            [
             0.5555555555555556,
             "#d8576b"
            ],
            [
             0.6666666666666666,
             "#ed7953"
            ],
            [
             0.7777777777777778,
             "#fb9f3a"
            ],
            [
             0.8888888888888888,
             "#fdca26"
            ],
            [
             1,
             "#f0f921"
            ]
           ]
          },
          "colorway": [
           "#636efa",
           "#EF553B",
           "#00cc96",
           "#ab63fa",
           "#FFA15A",
           "#19d3f3",
           "#FF6692",
           "#B6E880",
           "#FF97FF",
           "#FECB52"
          ],
          "font": {
           "color": "#2a3f5f"
          },
          "geo": {
           "bgcolor": "white",
           "lakecolor": "white",
           "landcolor": "#E5ECF6",
           "showlakes": true,
           "showland": true,
           "subunitcolor": "white"
          },
          "hoverlabel": {
           "align": "left"
          },
          "hovermode": "closest",
          "mapbox": {
           "style": "light"
          },
          "paper_bgcolor": "white",
          "plot_bgcolor": "#E5ECF6",
          "polar": {
           "angularaxis": {
            "gridcolor": "white",
            "linecolor": "white",
            "ticks": ""
           },
           "bgcolor": "#E5ECF6",
           "radialaxis": {
            "gridcolor": "white",
            "linecolor": "white",
            "ticks": ""
           }
          },
          "scene": {
           "xaxis": {
            "backgroundcolor": "#E5ECF6",
            "gridcolor": "white",
            "gridwidth": 2,
            "linecolor": "white",
            "showbackground": true,
            "ticks": "",
            "zerolinecolor": "white"
           },
           "yaxis": {
            "backgroundcolor": "#E5ECF6",
            "gridcolor": "white",
            "gridwidth": 2,
            "linecolor": "white",
            "showbackground": true,
            "ticks": "",
            "zerolinecolor": "white"
           },
           "zaxis": {
            "backgroundcolor": "#E5ECF6",
            "gridcolor": "white",
            "gridwidth": 2,
            "linecolor": "white",
            "showbackground": true,
            "ticks": "",
            "zerolinecolor": "white"
           }
          },
          "shapedefaults": {
           "line": {
            "color": "#2a3f5f"
           }
          },
          "ternary": {
           "aaxis": {
            "gridcolor": "white",
            "linecolor": "white",
            "ticks": ""
           },
           "baxis": {
            "gridcolor": "white",
            "linecolor": "white",
            "ticks": ""
           },
           "bgcolor": "#E5ECF6",
           "caxis": {
            "gridcolor": "white",
            "linecolor": "white",
            "ticks": ""
           }
          },
          "title": {
           "x": 0.05
          },
          "xaxis": {
           "automargin": true,
           "gridcolor": "white",
           "linecolor": "white",
           "ticks": "",
           "title": {
            "standoff": 15
           },
           "zerolinecolor": "white",
           "zerolinewidth": 2
          },
          "yaxis": {
           "automargin": true,
           "gridcolor": "white",
           "linecolor": "white",
           "ticks": "",
           "title": {
            "standoff": 15
           },
           "zerolinecolor": "white",
           "zerolinewidth": 2
          }
         }
        },
        "title": {
         "text": "Statistics papers published by year and subdomain"
        },
        "xaxis": {
         "anchor": "y",
         "domain": [
          0,
          1
         ],
         "title": {
          "text": "year"
         }
        },
        "yaxis": {
         "anchor": "x",
         "domain": [
          0,
          1
         ],
         "title": {
          "text": "Number of papers"
         }
        }
       }
      }
     },
     "metadata": {},
     "output_type": "display_data"
    }
   ],
   "source": [
    "fig = px.bar(stats_papers, x='year', y = 'count', color='category', title=\"Statistics papers published by year and subdomain\")\n",
    "fig.update_layout(yaxis_title=\"Number of papers\")"
   ]
  },
  {
   "cell_type": "code",
   "execution_count": 78,
   "metadata": {},
   "outputs": [
    {
     "data": {
      "application/vnd.microsoft.datawrangler.viewer.v0+json": {
       "columns": [
        {
         "name": "index",
         "rawType": "int64",
         "type": "integer"
        },
        {
         "name": "0",
         "rawType": "category",
         "type": "unknown"
        }
       ],
       "conversionMethod": "pd.DataFrame",
       "ref": "de0232d8-e227-424c-a7d8-3ef1ec859657",
       "rows": [
        [
         "0",
         "Artificial Intelligence"
        ],
        [
         "1",
         "Disordered Systems and Neural Networks"
        ],
        [
         "2",
         "Computational Complexity"
        ],
        [
         "3",
         "Logic in Computer Science"
        ],
        [
         "4",
         "Multiagent Systems"
        ],
        [
         "5",
         "Information Retrieval"
        ],
        [
         "6",
         "Robotics"
        ],
        [
         "7",
         "Databases"
        ],
        [
         "8",
         "Machine Learning"
        ],
        [
         "9",
         "Computation and Language (Natural Language Processing)"
        ],
        [
         "10",
         "Programming Languages"
        ],
        [
         "11",
         "Distributed, Parallel, and Cluster Computing"
        ],
        [
         "12",
         "Performance"
        ],
        [
         "13",
         "Neural and Evolutionary Computing"
        ],
        [
         "14",
         "Computational Engineering, Finance, and Science"
        ],
        [
         "15",
         "Computational Geometry"
        ],
        [
         "16",
         "Networking and Internet Architecture"
        ],
        [
         "17",
         "Computer Science and Game Theory"
        ],
        [
         "18",
         "Computer Vision and Pattern Recognition"
        ],
        [
         "19",
         "Human-Computer Interaction"
        ],
        [
         "20",
         "Cryptography and Security"
        ],
        [
         "21",
         "Other Computer Science"
        ],
        [
         "22",
         "Software Engineering"
        ],
        [
         "23",
         "Discrete Mathematics"
        ],
        [
         "24",
         "Mathematical Software"
        ],
        [
         "25",
         "Data Structures and Algorithms"
        ],
        [
         "26",
         "Computers and Society"
        ],
        [
         "27",
         "Logic"
        ],
        [
         "28",
         "Adaptation and Self-Organizing Systems"
        ],
        [
         "29",
         "Quantitative Methods in Biology"
        ],
        [
         "30",
         "Quantum Physics"
        ],
        [
         "31",
         "Digital Libraries"
        ],
        [
         "32",
         "Neurons and Cognition"
        ],
        [
         "33",
         "Graphics"
        ],
        [
         "34",
         "Multimedia"
        ],
        [
         "35",
         "Symbolic Computation"
        ],
        [
         "36",
         "Data Analysis, Statistics and Probability"
        ],
        [
         "37",
         "Machine Learning (Statistics)"
        ],
        [
         "38",
         "Hardware Architecture"
        ],
        [
         "39",
         "Optimization and Control"
        ],
        [
         "40",
         "Systems and Control"
        ],
        [
         "41",
         "Combinatorics"
        ],
        [
         "42",
         "Instrumentation and Methods for Astrophysics"
        ],
        [
         "43",
         "Methodology (Statistics)"
        ],
        [
         "44",
         "Computation (Statistics)"
        ],
        [
         "45",
         "Cosmology and Nongalactic Astrophysics"
        ],
        [
         "46",
         "Social and Information Networks"
        ],
        [
         "47",
         "Risk Management (Quantitative Finance)"
        ],
        [
         "48",
         "Probability"
        ],
        [
         "49",
         "Other Statistics"
        ]
       ],
       "shape": {
        "columns": 1,
        "rows": 138
       }
      },
      "text/html": [
       "<div>\n",
       "<style scoped>\n",
       "    .dataframe tbody tr th:only-of-type {\n",
       "        vertical-align: middle;\n",
       "    }\n",
       "\n",
       "    .dataframe tbody tr th {\n",
       "        vertical-align: top;\n",
       "    }\n",
       "\n",
       "    .dataframe thead th {\n",
       "        text-align: right;\n",
       "    }\n",
       "</style>\n",
       "<table border=\"1\" class=\"dataframe\">\n",
       "  <thead>\n",
       "    <tr style=\"text-align: right;\">\n",
       "      <th></th>\n",
       "      <th>0</th>\n",
       "    </tr>\n",
       "  </thead>\n",
       "  <tbody>\n",
       "    <tr>\n",
       "      <th>0</th>\n",
       "      <td>Artificial Intelligence</td>\n",
       "    </tr>\n",
       "    <tr>\n",
       "      <th>1</th>\n",
       "      <td>Disordered Systems and Neural Networks</td>\n",
       "    </tr>\n",
       "    <tr>\n",
       "      <th>2</th>\n",
       "      <td>Computational Complexity</td>\n",
       "    </tr>\n",
       "    <tr>\n",
       "      <th>3</th>\n",
       "      <td>Logic in Computer Science</td>\n",
       "    </tr>\n",
       "    <tr>\n",
       "      <th>4</th>\n",
       "      <td>Multiagent Systems</td>\n",
       "    </tr>\n",
       "    <tr>\n",
       "      <th>...</th>\n",
       "      <td>...</td>\n",
       "    </tr>\n",
       "    <tr>\n",
       "      <th>133</th>\n",
       "      <td>Superconductivity</td>\n",
       "    </tr>\n",
       "    <tr>\n",
       "      <th>134</th>\n",
       "      <td>Pattern Formation and Solitons</td>\n",
       "    </tr>\n",
       "    <tr>\n",
       "      <th>135</th>\n",
       "      <td>Computation and Language (Legacy category)</td>\n",
       "    </tr>\n",
       "    <tr>\n",
       "      <th>136</th>\n",
       "      <td>Group Theory</td>\n",
       "    </tr>\n",
       "    <tr>\n",
       "      <th>137</th>\n",
       "      <td>History and Philosophy of Physics</td>\n",
       "    </tr>\n",
       "  </tbody>\n",
       "</table>\n",
       "<p>138 rows × 1 columns</p>\n",
       "</div>"
      ],
      "text/plain": [
       "                                              0\n",
       "0                       Artificial Intelligence\n",
       "1        Disordered Systems and Neural Networks\n",
       "2                      Computational Complexity\n",
       "3                     Logic in Computer Science\n",
       "4                            Multiagent Systems\n",
       "..                                          ...\n",
       "133                           Superconductivity\n",
       "134              Pattern Formation and Solitons\n",
       "135  Computation and Language (Legacy category)\n",
       "136                                Group Theory\n",
       "137           History and Philosophy of Physics\n",
       "\n",
       "[138 rows x 1 columns]"
      ]
     },
     "execution_count": 78,
     "metadata": {},
     "output_type": "execute_result"
    }
   ],
   "source": [
    "pd.DataFrame(pd.unique(papers.category))"
   ]
  },
  {
   "cell_type": "code",
   "execution_count": 79,
   "metadata": {},
   "outputs": [],
   "source": [
    "comp_topics = list(categories[categories.astype(str).str.contains(\"Comp\")])\n",
    "comp_topics.append(\"Artificial Intelligence\")\n",
    "comp_topics = pd.Series(comp_topics)\n",
    "comp_topics = comp_topics[~comp_topics.isin(['Complex Variables', 'Computation (Statistics)', 'Symbolic Computation','Computational Finance', 'Logic in Computer Science','Human-Computer Interaction', 'Computational Geometry', 'Computers and Society', 'Computational Engineering, Finance, and Science', 'Computational Complexity', 'Other Computer Science'])]"
   ]
  },
  {
   "cell_type": "code",
   "execution_count": 80,
   "metadata": {},
   "outputs": [
    {
     "data": {
      "application/vnd.microsoft.datawrangler.viewer.v0+json": {
       "columns": [
        {
         "name": "index",
         "rawType": "int64",
         "type": "integer"
        },
        {
         "name": "0",
         "rawType": "object",
         "type": "string"
        }
       ],
       "conversionMethod": "pd.DataFrame",
       "ref": "29a436e6-3264-4962-926b-838d8ba63e5e",
       "rows": [
        [
         "2",
         "Computation and Language (Natural Language Processing)"
        ],
        [
         "3",
         "Distributed, Parallel, and Cluster Computing"
        ],
        [
         "4",
         "Neural and Evolutionary Computing"
        ],
        [
         "7",
         "Computer Science and Game Theory"
        ],
        [
         "8",
         "Computer Vision and Pattern Recognition"
        ],
        [
         "15",
         "Computational Physics"
        ],
        [
         "17",
         "Computation and Language (Legacy category)"
        ],
        [
         "18",
         "Artificial Intelligence"
        ]
       ],
       "shape": {
        "columns": 1,
        "rows": 8
       }
      },
      "text/html": [
       "<div>\n",
       "<style scoped>\n",
       "    .dataframe tbody tr th:only-of-type {\n",
       "        vertical-align: middle;\n",
       "    }\n",
       "\n",
       "    .dataframe tbody tr th {\n",
       "        vertical-align: top;\n",
       "    }\n",
       "\n",
       "    .dataframe thead th {\n",
       "        text-align: right;\n",
       "    }\n",
       "</style>\n",
       "<table border=\"1\" class=\"dataframe\">\n",
       "  <thead>\n",
       "    <tr style=\"text-align: right;\">\n",
       "      <th></th>\n",
       "      <th>0</th>\n",
       "    </tr>\n",
       "  </thead>\n",
       "  <tbody>\n",
       "    <tr>\n",
       "      <th>2</th>\n",
       "      <td>Computation and Language (Natural Language Pro...</td>\n",
       "    </tr>\n",
       "    <tr>\n",
       "      <th>3</th>\n",
       "      <td>Distributed, Parallel, and Cluster Computing</td>\n",
       "    </tr>\n",
       "    <tr>\n",
       "      <th>4</th>\n",
       "      <td>Neural and Evolutionary Computing</td>\n",
       "    </tr>\n",
       "    <tr>\n",
       "      <th>7</th>\n",
       "      <td>Computer Science and Game Theory</td>\n",
       "    </tr>\n",
       "    <tr>\n",
       "      <th>8</th>\n",
       "      <td>Computer Vision and Pattern Recognition</td>\n",
       "    </tr>\n",
       "    <tr>\n",
       "      <th>15</th>\n",
       "      <td>Computational Physics</td>\n",
       "    </tr>\n",
       "    <tr>\n",
       "      <th>17</th>\n",
       "      <td>Computation and Language (Legacy category)</td>\n",
       "    </tr>\n",
       "    <tr>\n",
       "      <th>18</th>\n",
       "      <td>Artificial Intelligence</td>\n",
       "    </tr>\n",
       "  </tbody>\n",
       "</table>\n",
       "</div>"
      ],
      "text/plain": [
       "                                                    0\n",
       "2   Computation and Language (Natural Language Pro...\n",
       "3        Distributed, Parallel, and Cluster Computing\n",
       "4                   Neural and Evolutionary Computing\n",
       "7                    Computer Science and Game Theory\n",
       "8             Computer Vision and Pattern Recognition\n",
       "15                              Computational Physics\n",
       "17         Computation and Language (Legacy category)\n",
       "18                            Artificial Intelligence"
      ]
     },
     "execution_count": 80,
     "metadata": {},
     "output_type": "execute_result"
    }
   ],
   "source": [
    "pd.DataFrame(comp_topics)"
   ]
  },
  {
   "cell_type": "code",
   "execution_count": 81,
   "metadata": {},
   "outputs": [
    {
     "name": "stderr",
     "output_type": "stream",
     "text": [
      "/tmp/ipykernel_4495/255548619.py:1: FutureWarning:\n",
      "\n",
      "The default of observed=False is deprecated and will be changed to True in a future version of pandas. Pass observed=False to retain current behavior or observed=True to adopt the future default and silence this warning.\n",
      "\n"
     ]
    }
   ],
   "source": [
    "comp_papers = papers.query('category.isin(@comp_topics)').groupby(['year', 'category']).size().reset_index(name='count').query(\"count > 0\")"
   ]
  },
  {
   "cell_type": "code",
   "execution_count": 82,
   "metadata": {},
   "outputs": [
    {
     "data": {
      "application/vnd.microsoft.datawrangler.viewer.v0+json": {
       "columns": [
        {
         "name": "index",
         "rawType": "int64",
         "type": "integer"
        },
        {
         "name": "year",
         "rawType": "int32",
         "type": "integer"
        },
        {
         "name": "category",
         "rawType": "category",
         "type": "unknown"
        },
        {
         "name": "count",
         "rawType": "int64",
         "type": "integer"
        }
       ],
       "conversionMethod": "pd.DataFrame",
       "ref": "886579de-5c7c-40c9-9618-2e6a64382ecb",
       "rows": [
        [
         "7",
         "1993",
         "Artificial Intelligence",
         "6"
        ],
        [
         "145",
         "1994",
         "Artificial Intelligence",
         "14"
        ],
        [
         "161",
         "1994",
         "Computation and Language (Legacy category)",
         "161"
        ],
        [
         "283",
         "1995",
         "Artificial Intelligence",
         "27"
        ],
        [
         "299",
         "1995",
         "Computation and Language (Legacy category)",
         "224"
        ],
        [
         "421",
         "1996",
         "Artificial Intelligence",
         "28"
        ],
        [
         "437",
         "1996",
         "Computation and Language (Legacy category)",
         "201"
        ],
        [
         "559",
         "1997",
         "Artificial Intelligence",
         "19"
        ],
        [
         "575",
         "1997",
         "Computation and Language (Legacy category)",
         "163"
        ],
        [
         "697",
         "1998",
         "Artificial Intelligence",
         "18"
        ],
        [
         "713",
         "1998",
         "Computation and Language (Legacy category)",
         "1"
        ],
        [
         "714",
         "1998",
         "Computation and Language (Natural Language Processing)",
         "22"
        ],
        [
         "721",
         "1998",
         "Computer Vision and Pattern Recognition",
         "2"
        ],
        [
         "732",
         "1998",
         "Distributed, Parallel, and Cluster Computing",
         "1"
        ],
        [
         "783",
         "1998",
         "Neural and Evolutionary Computing",
         "10"
        ],
        [
         "835",
         "1999",
         "Artificial Intelligence",
         "9"
        ],
        [
         "852",
         "1999",
         "Computation and Language (Natural Language Processing)",
         "44"
        ],
        [
         "859",
         "1999",
         "Computer Vision and Pattern Recognition",
         "1"
        ],
        [
         "921",
         "1999",
         "Neural and Evolutionary Computing",
         "3"
        ],
        [
         "973",
         "2000",
         "Artificial Intelligence",
         "67"
        ],
        [
         "990",
         "2000",
         "Computation and Language (Natural Language Processing)",
         "99"
        ],
        [
         "997",
         "2000",
         "Computer Vision and Pattern Recognition",
         "8"
        ],
        [
         "1008",
         "2000",
         "Distributed, Parallel, and Cluster Computing",
         "1"
        ],
        [
         "1059",
         "2000",
         "Neural and Evolutionary Computing",
         "3"
        ],
        [
         "1111",
         "2001",
         "Artificial Intelligence",
         "23"
        ],
        [
         "1128",
         "2001",
         "Computation and Language (Natural Language Processing)",
         "57"
        ],
        [
         "1197",
         "2001",
         "Neural and Evolutionary Computing",
         "4"
        ],
        [
         "1249",
         "2002",
         "Artificial Intelligence",
         "68"
        ],
        [
         "1266",
         "2002",
         "Computation and Language (Natural Language Processing)",
         "39"
        ],
        [
         "1272",
         "2002",
         "Computer Science and Game Theory",
         "4"
        ],
        [
         "1273",
         "2002",
         "Computer Vision and Pattern Recognition",
         "2"
        ],
        [
         "1335",
         "2002",
         "Neural and Evolutionary Computing",
         "7"
        ],
        [
         "1387",
         "2003",
         "Artificial Intelligence",
         "75"
        ],
        [
         "1404",
         "2003",
         "Computation and Language (Natural Language Processing)",
         "32"
        ],
        [
         "1410",
         "2003",
         "Computer Science and Game Theory",
         "2"
        ],
        [
         "1411",
         "2003",
         "Computer Vision and Pattern Recognition",
         "10"
        ],
        [
         "1422",
         "2003",
         "Distributed, Parallel, and Cluster Computing",
         "2"
        ],
        [
         "1473",
         "2003",
         "Neural and Evolutionary Computing",
         "10"
        ],
        [
         "1525",
         "2004",
         "Artificial Intelligence",
         "64"
        ],
        [
         "1542",
         "2004",
         "Computation and Language (Natural Language Processing)",
         "24"
        ],
        [
         "1549",
         "2004",
         "Computer Vision and Pattern Recognition",
         "6"
        ],
        [
         "1611",
         "2004",
         "Neural and Evolutionary Computing",
         "25"
        ],
        [
         "1663",
         "2005",
         "Artificial Intelligence",
         "46"
        ],
        [
         "1680",
         "2005",
         "Computation and Language (Natural Language Processing)",
         "7"
        ],
        [
         "1686",
         "2005",
         "Computer Science and Game Theory",
         "2"
        ],
        [
         "1687",
         "2005",
         "Computer Vision and Pattern Recognition",
         "11"
        ],
        [
         "1749",
         "2005",
         "Neural and Evolutionary Computing",
         "37"
        ],
        [
         "1801",
         "2006",
         "Artificial Intelligence",
         "94"
        ],
        [
         "1818",
         "2006",
         "Computation and Language (Natural Language Processing)",
         "16"
        ],
        [
         "1824",
         "2006",
         "Computer Science and Game Theory",
         "1"
        ]
       ],
       "shape": {
        "columns": 3,
        "rows": 168
       }
      },
      "text/html": [
       "<div>\n",
       "<style scoped>\n",
       "    .dataframe tbody tr th:only-of-type {\n",
       "        vertical-align: middle;\n",
       "    }\n",
       "\n",
       "    .dataframe tbody tr th {\n",
       "        vertical-align: top;\n",
       "    }\n",
       "\n",
       "    .dataframe thead th {\n",
       "        text-align: right;\n",
       "    }\n",
       "</style>\n",
       "<table border=\"1\" class=\"dataframe\">\n",
       "  <thead>\n",
       "    <tr style=\"text-align: right;\">\n",
       "      <th></th>\n",
       "      <th>year</th>\n",
       "      <th>category</th>\n",
       "      <th>count</th>\n",
       "    </tr>\n",
       "  </thead>\n",
       "  <tbody>\n",
       "    <tr>\n",
       "      <th>7</th>\n",
       "      <td>1993</td>\n",
       "      <td>Artificial Intelligence</td>\n",
       "      <td>6</td>\n",
       "    </tr>\n",
       "    <tr>\n",
       "      <th>145</th>\n",
       "      <td>1994</td>\n",
       "      <td>Artificial Intelligence</td>\n",
       "      <td>14</td>\n",
       "    </tr>\n",
       "    <tr>\n",
       "      <th>161</th>\n",
       "      <td>1994</td>\n",
       "      <td>Computation and Language (Legacy category)</td>\n",
       "      <td>161</td>\n",
       "    </tr>\n",
       "    <tr>\n",
       "      <th>283</th>\n",
       "      <td>1995</td>\n",
       "      <td>Artificial Intelligence</td>\n",
       "      <td>27</td>\n",
       "    </tr>\n",
       "    <tr>\n",
       "      <th>299</th>\n",
       "      <td>1995</td>\n",
       "      <td>Computation and Language (Legacy category)</td>\n",
       "      <td>224</td>\n",
       "    </tr>\n",
       "    <tr>\n",
       "      <th>...</th>\n",
       "      <td>...</td>\n",
       "      <td>...</td>\n",
       "      <td>...</td>\n",
       "    </tr>\n",
       "    <tr>\n",
       "      <th>4307</th>\n",
       "      <td>2024</td>\n",
       "      <td>Computational Physics</td>\n",
       "      <td>3</td>\n",
       "    </tr>\n",
       "    <tr>\n",
       "      <th>4308</th>\n",
       "      <td>2024</td>\n",
       "      <td>Computer Science and Game Theory</td>\n",
       "      <td>9</td>\n",
       "    </tr>\n",
       "    <tr>\n",
       "      <th>4309</th>\n",
       "      <td>2024</td>\n",
       "      <td>Computer Vision and Pattern Recognition</td>\n",
       "      <td>498</td>\n",
       "    </tr>\n",
       "    <tr>\n",
       "      <th>4320</th>\n",
       "      <td>2024</td>\n",
       "      <td>Distributed, Parallel, and Cluster Computing</td>\n",
       "      <td>13</td>\n",
       "    </tr>\n",
       "    <tr>\n",
       "      <th>4371</th>\n",
       "      <td>2024</td>\n",
       "      <td>Neural and Evolutionary Computing</td>\n",
       "      <td>708</td>\n",
       "    </tr>\n",
       "  </tbody>\n",
       "</table>\n",
       "<p>168 rows × 3 columns</p>\n",
       "</div>"
      ],
      "text/plain": [
       "      year                                      category  count\n",
       "7     1993                       Artificial Intelligence      6\n",
       "145   1994                       Artificial Intelligence     14\n",
       "161   1994    Computation and Language (Legacy category)    161\n",
       "283   1995                       Artificial Intelligence     27\n",
       "299   1995    Computation and Language (Legacy category)    224\n",
       "...    ...                                           ...    ...\n",
       "4307  2024                         Computational Physics      3\n",
       "4308  2024              Computer Science and Game Theory      9\n",
       "4309  2024       Computer Vision and Pattern Recognition    498\n",
       "4320  2024  Distributed, Parallel, and Cluster Computing     13\n",
       "4371  2024             Neural and Evolutionary Computing    708\n",
       "\n",
       "[168 rows x 3 columns]"
      ]
     },
     "execution_count": 82,
     "metadata": {},
     "output_type": "execute_result"
    }
   ],
   "source": [
    "comp_papers"
   ]
  },
  {
   "cell_type": "code",
   "execution_count": 83,
   "metadata": {},
   "outputs": [
    {
     "data": {
      "application/vnd.plotly.v1+json": {
       "config": {
        "plotlyServerURL": "https://plot.ly"
       },
       "data": [
        {
         "hovertemplate": "category=Artificial Intelligence<br>year=%{x}<br>count=%{y}<extra></extra>",
         "legendgroup": "Artificial Intelligence",
         "marker": {
          "color": "#636efa",
          "pattern": {
           "shape": ""
          }
         },
         "name": "Artificial Intelligence",
         "orientation": "v",
         "showlegend": true,
         "textposition": "auto",
         "type": "bar",
         "x": {
          "bdata": "yQcAAMoHAADLBwAAzAcAAM0HAADOBwAAzwcAANAHAADRBwAA0gcAANMHAADUBwAA1QcAANYHAADXBwAA2AcAANkHAADaBwAA2wcAANwHAADdBwAA3gcAAN8HAADgBwAA4QcAAOIHAADjBwAA5AcAAOUHAADmBwAA5wcAAOgHAAA=",
          "dtype": "i4"
         },
         "xaxis": "x",
         "y": {
          "bdata": "BgAOABsAHAATABIACQBDABcARABLAEAALgBeADUAcwCpAGkAygHLASoEHAI7AVICUgNGA8UCkwNIBP8DgQUlBg==",
          "dtype": "i2"
         },
         "yaxis": "y"
        },
        {
         "hovertemplate": "category=Computation and Language (Legacy category)<br>year=%{x}<br>count=%{y}<extra></extra>",
         "legendgroup": "Computation and Language (Legacy category)",
         "marker": {
          "color": "#EF553B",
          "pattern": {
           "shape": ""
          }
         },
         "name": "Computation and Language (Legacy category)",
         "orientation": "v",
         "showlegend": true,
         "textposition": "auto",
         "type": "bar",
         "x": {
          "bdata": "ygcAAMsHAADMBwAAzQcAAM4HAAA=",
          "dtype": "i4"
         },
         "xaxis": "x",
         "y": {
          "bdata": "oQDgAMkAowABAA==",
          "dtype": "i2"
         },
         "yaxis": "y"
        },
        {
         "hovertemplate": "category=Computation and Language (Natural Language Processing)<br>year=%{x}<br>count=%{y}<extra></extra>",
         "legendgroup": "Computation and Language (Natural Language Processing)",
         "marker": {
          "color": "#00cc96",
          "pattern": {
           "shape": ""
          }
         },
         "name": "Computation and Language (Natural Language Processing)",
         "orientation": "v",
         "showlegend": true,
         "textposition": "auto",
         "type": "bar",
         "x": {
          "bdata": "zgcAAM8HAADQBwAA0QcAANIHAADTBwAA1AcAANUHAADWBwAA1wcAANgHAADZBwAA2gcAANsHAADcBwAA3QcAAN4HAADfBwAA4AcAAOEHAADiBwAA4wcAAOQHAADlBwAA5gcAAOcHAADoBwAA",
          "dtype": "i4"
         },
         "xaxis": "x",
         "y": {
          "bdata": "FgAsAGMAOQAnACAAGAAHABAAIgAaADAALAAEAA0AbwD6AKUBYwMdBrEGkAmkCWAMOA/dEIsN",
          "dtype": "i2"
         },
         "yaxis": "y"
        },
        {
         "hovertemplate": "category=Computer Vision and Pattern Recognition<br>year=%{x}<br>count=%{y}<extra></extra>",
         "legendgroup": "Computer Vision and Pattern Recognition",
         "marker": {
          "color": "#ab63fa",
          "pattern": {
           "shape": ""
          }
         },
         "name": "Computer Vision and Pattern Recognition",
         "orientation": "v",
         "showlegend": true,
         "textposition": "auto",
         "type": "bar",
         "x": {
          "bdata": "zgcAAM8HAADQBwAA0gcAANMHAADUBwAA1QcAANYHAADXBwAA2AcAANkHAADaBwAA2wcAANwHAADdBwAA3gcAAN8HAADgBwAA4QcAAOIHAADjBwAA5AcAAOUHAADmBwAA5wcAAOgHAAA=",
          "dtype": "i4"
         },
         "xaxis": "x",
         "y": {
          "bdata": "AgABAAgAAgAKAAYACwAUAB0AJgBBALgAuwAwAewByQLWAy8I1wzdDWENwwueDdwOGQvyAQ==",
          "dtype": "i2"
         },
         "yaxis": "y"
        },
        {
         "hovertemplate": "category=Distributed, Parallel, and Cluster Computing<br>year=%{x}<br>count=%{y}<extra></extra>",
         "legendgroup": "Distributed, Parallel, and Cluster Computing",
         "marker": {
          "color": "#FFA15A",
          "pattern": {
           "shape": ""
          }
         },
         "name": "Distributed, Parallel, and Cluster Computing",
         "orientation": "v",
         "showlegend": true,
         "textposition": "auto",
         "type": "bar",
         "x": {
          "bdata": "zgcAANAHAADTBwAA1wcAANgHAADZBwAA2wcAANwHAADdBwAA3gcAAN8HAADgBwAA4QcAAOIHAADjBwAA5AcAAOUHAADmBwAA5wcAAOgHAAA=",
          "dtype": "i4"
         },
         "xaxis": "x",
         "y": {
          "bdata": "AQECAQIFAgMFCQkTHCMsJiYUFg0=",
          "dtype": "i1"
         },
         "yaxis": "y"
        },
        {
         "hovertemplate": "category=Neural and Evolutionary Computing<br>year=%{x}<br>count=%{y}<extra></extra>",
         "legendgroup": "Neural and Evolutionary Computing",
         "marker": {
          "color": "#19d3f3",
          "pattern": {
           "shape": ""
          }
         },
         "name": "Neural and Evolutionary Computing",
         "orientation": "v",
         "showlegend": true,
         "textposition": "auto",
         "type": "bar",
         "x": {
          "bdata": "zgcAAM8HAADQBwAA0QcAANIHAADTBwAA1AcAANUHAADWBwAA1wcAANgHAADZBwAA2gcAANsHAADcBwAA3QcAAN4HAADfBwAA4AcAAOEHAADiBwAA4wcAAOQHAADlBwAA5gcAAOcHAADoBwAA",
          "dtype": "i4"
         },
         "xaxis": "x",
         "y": {
          "bdata": "CgADAAMABAAHAAoAGQAlABYALwBUAEMAUABMAIAAngCxAMkADQEMAXEBogEtArYBtQJXAsQC",
          "dtype": "i2"
         },
         "yaxis": "y"
        },
        {
         "hovertemplate": "category=Computer Science and Game Theory<br>year=%{x}<br>count=%{y}<extra></extra>",
         "legendgroup": "Computer Science and Game Theory",
         "marker": {
          "color": "#FF6692",
          "pattern": {
           "shape": ""
          }
         },
         "name": "Computer Science and Game Theory",
         "orientation": "v",
         "showlegend": true,
         "textposition": "auto",
         "type": "bar",
         "x": {
          "bdata": "0gcAANMHAADVBwAA1gcAANcHAADYBwAA2QcAANoHAADbBwAA3AcAAN0HAADeBwAA3wcAAOAHAADhBwAA4gcAAOMHAADkBwAA5QcAAOYHAADnBwAA6AcAAA==",
          "dtype": "i4"
         },
         "xaxis": "x",
         "y": {
          "bdata": "BAICAQICAwEEEwYKBg4WCBMPFA4OCQ==",
          "dtype": "i1"
         },
         "yaxis": "y"
        },
        {
         "hovertemplate": "category=Computational Physics<br>year=%{x}<br>count=%{y}<extra></extra>",
         "legendgroup": "Computational Physics",
         "marker": {
          "color": "#B6E880",
          "pattern": {
           "shape": ""
          }
         },
         "name": "Computational Physics",
         "orientation": "v",
         "showlegend": true,
         "textposition": "auto",
         "type": "bar",
         "x": {
          "bdata": "3wcAAOAHAADiBwAA4wcAAOQHAADlBwAA5gcAAOcHAADoBwAA",
          "dtype": "i4"
         },
         "xaxis": "x",
         "y": {
          "bdata": "AQENFBIJCQID",
          "dtype": "i1"
         },
         "yaxis": "y"
        }
       ],
       "layout": {
        "barmode": "relative",
        "legend": {
         "title": {
          "text": "category"
         },
         "tracegroupgap": 0
        },
        "template": {
         "data": {
          "bar": [
           {
            "error_x": {
             "color": "#2a3f5f"
            },
            "error_y": {
             "color": "#2a3f5f"
            },
            "marker": {
             "line": {
              "color": "#E5ECF6",
              "width": 0.5
             },
             "pattern": {
              "fillmode": "overlay",
              "size": 10,
              "solidity": 0.2
             }
            },
            "type": "bar"
           }
          ],
          "barpolar": [
           {
            "marker": {
             "line": {
              "color": "#E5ECF6",
              "width": 0.5
             },
             "pattern": {
              "fillmode": "overlay",
              "size": 10,
              "solidity": 0.2
             }
            },
            "type": "barpolar"
           }
          ],
          "carpet": [
           {
            "aaxis": {
             "endlinecolor": "#2a3f5f",
             "gridcolor": "white",
             "linecolor": "white",
             "minorgridcolor": "white",
             "startlinecolor": "#2a3f5f"
            },
            "baxis": {
             "endlinecolor": "#2a3f5f",
             "gridcolor": "white",
             "linecolor": "white",
             "minorgridcolor": "white",
             "startlinecolor": "#2a3f5f"
            },
            "type": "carpet"
           }
          ],
          "choropleth": [
           {
            "colorbar": {
             "outlinewidth": 0,
             "ticks": ""
            },
            "type": "choropleth"
           }
          ],
          "contour": [
           {
            "colorbar": {
             "outlinewidth": 0,
             "ticks": ""
            },
            "colorscale": [
             [
              0,
              "#0d0887"
             ],
             [
              0.1111111111111111,
              "#46039f"
             ],
             [
              0.2222222222222222,
              "#7201a8"
             ],
             [
              0.3333333333333333,
              "#9c179e"
             ],
             [
              0.4444444444444444,
              "#bd3786"
             ],
             [
              0.5555555555555556,
              "#d8576b"
             ],
             [
              0.6666666666666666,
              "#ed7953"
             ],
             [
              0.7777777777777778,
              "#fb9f3a"
             ],
             [
              0.8888888888888888,
              "#fdca26"
             ],
             [
              1,
              "#f0f921"
             ]
            ],
            "type": "contour"
           }
          ],
          "contourcarpet": [
           {
            "colorbar": {
             "outlinewidth": 0,
             "ticks": ""
            },
            "type": "contourcarpet"
           }
          ],
          "heatmap": [
           {
            "colorbar": {
             "outlinewidth": 0,
             "ticks": ""
            },
            "colorscale": [
             [
              0,
              "#0d0887"
             ],
             [
              0.1111111111111111,
              "#46039f"
             ],
             [
              0.2222222222222222,
              "#7201a8"
             ],
             [
              0.3333333333333333,
              "#9c179e"
             ],
             [
              0.4444444444444444,
              "#bd3786"
             ],
             [
              0.5555555555555556,
              "#d8576b"
             ],
             [
              0.6666666666666666,
              "#ed7953"
             ],
             [
              0.7777777777777778,
              "#fb9f3a"
             ],
             [
              0.8888888888888888,
              "#fdca26"
             ],
             [
              1,
              "#f0f921"
             ]
            ],
            "type": "heatmap"
           }
          ],
          "histogram": [
           {
            "marker": {
             "pattern": {
              "fillmode": "overlay",
              "size": 10,
              "solidity": 0.2
             }
            },
            "type": "histogram"
           }
          ],
          "histogram2d": [
           {
            "colorbar": {
             "outlinewidth": 0,
             "ticks": ""
            },
            "colorscale": [
             [
              0,
              "#0d0887"
             ],
             [
              0.1111111111111111,
              "#46039f"
             ],
             [
              0.2222222222222222,
              "#7201a8"
             ],
             [
              0.3333333333333333,
              "#9c179e"
             ],
             [
              0.4444444444444444,
              "#bd3786"
             ],
             [
              0.5555555555555556,
              "#d8576b"
             ],
             [
              0.6666666666666666,
              "#ed7953"
             ],
             [
              0.7777777777777778,
              "#fb9f3a"
             ],
             [
              0.8888888888888888,
              "#fdca26"
             ],
             [
              1,
              "#f0f921"
             ]
            ],
            "type": "histogram2d"
           }
          ],
          "histogram2dcontour": [
           {
            "colorbar": {
             "outlinewidth": 0,
             "ticks": ""
            },
            "colorscale": [
             [
              0,
              "#0d0887"
             ],
             [
              0.1111111111111111,
              "#46039f"
             ],
             [
              0.2222222222222222,
              "#7201a8"
             ],
             [
              0.3333333333333333,
              "#9c179e"
             ],
             [
              0.4444444444444444,
              "#bd3786"
             ],
             [
              0.5555555555555556,
              "#d8576b"
             ],
             [
              0.6666666666666666,
              "#ed7953"
             ],
             [
              0.7777777777777778,
              "#fb9f3a"
             ],
             [
              0.8888888888888888,
              "#fdca26"
             ],
             [
              1,
              "#f0f921"
             ]
            ],
            "type": "histogram2dcontour"
           }
          ],
          "mesh3d": [
           {
            "colorbar": {
             "outlinewidth": 0,
             "ticks": ""
            },
            "type": "mesh3d"
           }
          ],
          "parcoords": [
           {
            "line": {
             "colorbar": {
              "outlinewidth": 0,
              "ticks": ""
             }
            },
            "type": "parcoords"
           }
          ],
          "pie": [
           {
            "automargin": true,
            "type": "pie"
           }
          ],
          "scatter": [
           {
            "fillpattern": {
             "fillmode": "overlay",
             "size": 10,
             "solidity": 0.2
            },
            "type": "scatter"
           }
          ],
          "scatter3d": [
           {
            "line": {
             "colorbar": {
              "outlinewidth": 0,
              "ticks": ""
             }
            },
            "marker": {
             "colorbar": {
              "outlinewidth": 0,
              "ticks": ""
             }
            },
            "type": "scatter3d"
           }
          ],
          "scattercarpet": [
           {
            "marker": {
             "colorbar": {
              "outlinewidth": 0,
              "ticks": ""
             }
            },
            "type": "scattercarpet"
           }
          ],
          "scattergeo": [
           {
            "marker": {
             "colorbar": {
              "outlinewidth": 0,
              "ticks": ""
             }
            },
            "type": "scattergeo"
           }
          ],
          "scattergl": [
           {
            "marker": {
             "colorbar": {
              "outlinewidth": 0,
              "ticks": ""
             }
            },
            "type": "scattergl"
           }
          ],
          "scattermap": [
           {
            "marker": {
             "colorbar": {
              "outlinewidth": 0,
              "ticks": ""
             }
            },
            "type": "scattermap"
           }
          ],
          "scattermapbox": [
           {
            "marker": {
             "colorbar": {
              "outlinewidth": 0,
              "ticks": ""
             }
            },
            "type": "scattermapbox"
           }
          ],
          "scatterpolar": [
           {
            "marker": {
             "colorbar": {
              "outlinewidth": 0,
              "ticks": ""
             }
            },
            "type": "scatterpolar"
           }
          ],
          "scatterpolargl": [
           {
            "marker": {
             "colorbar": {
              "outlinewidth": 0,
              "ticks": ""
             }
            },
            "type": "scatterpolargl"
           }
          ],
          "scatterternary": [
           {
            "marker": {
             "colorbar": {
              "outlinewidth": 0,
              "ticks": ""
             }
            },
            "type": "scatterternary"
           }
          ],
          "surface": [
           {
            "colorbar": {
             "outlinewidth": 0,
             "ticks": ""
            },
            "colorscale": [
             [
              0,
              "#0d0887"
             ],
             [
              0.1111111111111111,
              "#46039f"
             ],
             [
              0.2222222222222222,
              "#7201a8"
             ],
             [
              0.3333333333333333,
              "#9c179e"
             ],
             [
              0.4444444444444444,
              "#bd3786"
             ],
             [
              0.5555555555555556,
              "#d8576b"
             ],
             [
              0.6666666666666666,
              "#ed7953"
             ],
             [
              0.7777777777777778,
              "#fb9f3a"
             ],
             [
              0.8888888888888888,
              "#fdca26"
             ],
             [
              1,
              "#f0f921"
             ]
            ],
            "type": "surface"
           }
          ],
          "table": [
           {
            "cells": {
             "fill": {
              "color": "#EBF0F8"
             },
             "line": {
              "color": "white"
             }
            },
            "header": {
             "fill": {
              "color": "#C8D4E3"
             },
             "line": {
              "color": "white"
             }
            },
            "type": "table"
           }
          ]
         },
         "layout": {
          "annotationdefaults": {
           "arrowcolor": "#2a3f5f",
           "arrowhead": 0,
           "arrowwidth": 1
          },
          "autotypenumbers": "strict",
          "coloraxis": {
           "colorbar": {
            "outlinewidth": 0,
            "ticks": ""
           }
          },
          "colorscale": {
           "diverging": [
            [
             0,
             "#8e0152"
            ],
            [
             0.1,
             "#c51b7d"
            ],
            [
             0.2,
             "#de77ae"
            ],
            [
             0.3,
             "#f1b6da"
            ],
            [
             0.4,
             "#fde0ef"
            ],
            [
             0.5,
             "#f7f7f7"
            ],
            [
             0.6,
             "#e6f5d0"
            ],
            [
             0.7,
             "#b8e186"
            ],
            [
             0.8,
             "#7fbc41"
            ],
            [
             0.9,
             "#4d9221"
            ],
            [
             1,
             "#276419"
            ]
           ],
           "sequential": [
            [
             0,
             "#0d0887"
            ],
            [
             0.1111111111111111,
             "#46039f"
            ],
            [
             0.2222222222222222,
             "#7201a8"
            ],
            [
             0.3333333333333333,
             "#9c179e"
            ],
            [
             0.4444444444444444,
             "#bd3786"
            ],
            [
             0.5555555555555556,
             "#d8576b"
            ],
            [
             0.6666666666666666,
             "#ed7953"
            ],
            [
             0.7777777777777778,
             "#fb9f3a"
            ],
            [
             0.8888888888888888,
             "#fdca26"
            ],
            [
             1,
             "#f0f921"
            ]
           ],
           "sequentialminus": [
            [
             0,
             "#0d0887"
            ],
            [
             0.1111111111111111,
             "#46039f"
            ],
            [
             0.2222222222222222,
             "#7201a8"
            ],
            [
             0.3333333333333333,
             "#9c179e"
            ],
            [
             0.4444444444444444,
             "#bd3786"
            ],
            [
             0.5555555555555556,
             "#d8576b"
            ],
            [
             0.6666666666666666,
             "#ed7953"
            ],
            [
             0.7777777777777778,
             "#fb9f3a"
            ],
            [
             0.8888888888888888,
             "#fdca26"
            ],
            [
             1,
             "#f0f921"
            ]
           ]
          },
          "colorway": [
           "#636efa",
           "#EF553B",
           "#00cc96",
           "#ab63fa",
           "#FFA15A",
           "#19d3f3",
           "#FF6692",
           "#B6E880",
           "#FF97FF",
           "#FECB52"
          ],
          "font": {
           "color": "#2a3f5f"
          },
          "geo": {
           "bgcolor": "white",
           "lakecolor": "white",
           "landcolor": "#E5ECF6",
           "showlakes": true,
           "showland": true,
           "subunitcolor": "white"
          },
          "hoverlabel": {
           "align": "left"
          },
          "hovermode": "closest",
          "mapbox": {
           "style": "light"
          },
          "paper_bgcolor": "white",
          "plot_bgcolor": "#E5ECF6",
          "polar": {
           "angularaxis": {
            "gridcolor": "white",
            "linecolor": "white",
            "ticks": ""
           },
           "bgcolor": "#E5ECF6",
           "radialaxis": {
            "gridcolor": "white",
            "linecolor": "white",
            "ticks": ""
           }
          },
          "scene": {
           "xaxis": {
            "backgroundcolor": "#E5ECF6",
            "gridcolor": "white",
            "gridwidth": 2,
            "linecolor": "white",
            "showbackground": true,
            "ticks": "",
            "zerolinecolor": "white"
           },
           "yaxis": {
            "backgroundcolor": "#E5ECF6",
            "gridcolor": "white",
            "gridwidth": 2,
            "linecolor": "white",
            "showbackground": true,
            "ticks": "",
            "zerolinecolor": "white"
           },
           "zaxis": {
            "backgroundcolor": "#E5ECF6",
            "gridcolor": "white",
            "gridwidth": 2,
            "linecolor": "white",
            "showbackground": true,
            "ticks": "",
            "zerolinecolor": "white"
           }
          },
          "shapedefaults": {
           "line": {
            "color": "#2a3f5f"
           }
          },
          "ternary": {
           "aaxis": {
            "gridcolor": "white",
            "linecolor": "white",
            "ticks": ""
           },
           "baxis": {
            "gridcolor": "white",
            "linecolor": "white",
            "ticks": ""
           },
           "bgcolor": "#E5ECF6",
           "caxis": {
            "gridcolor": "white",
            "linecolor": "white",
            "ticks": ""
           }
          },
          "title": {
           "x": 0.05
          },
          "xaxis": {
           "automargin": true,
           "gridcolor": "white",
           "linecolor": "white",
           "ticks": "",
           "title": {
            "standoff": 15
           },
           "zerolinecolor": "white",
           "zerolinewidth": 2
          },
          "yaxis": {
           "automargin": true,
           "gridcolor": "white",
           "linecolor": "white",
           "ticks": "",
           "title": {
            "standoff": 15
           },
           "zerolinecolor": "white",
           "zerolinewidth": 2
          }
         }
        },
        "title": {
         "text": "Computational papers published by year and subdomain"
        },
        "xaxis": {
         "anchor": "y",
         "domain": [
          0,
          1
         ],
         "title": {
          "text": "year"
         }
        },
        "yaxis": {
         "anchor": "x",
         "domain": [
          0,
          1
         ],
         "title": {
          "text": "Number of papers"
         }
        }
       }
      }
     },
     "metadata": {},
     "output_type": "display_data"
    }
   ],
   "source": [
    "fig = px.bar(comp_papers, x='year', y = 'count', color='category', title=\"Computational papers published by year and subdomain\")\n",
    "fig.update_layout(yaxis_title=\"Number of papers\")"
   ]
  },
  {
   "cell_type": "code",
   "execution_count": 84,
   "metadata": {},
   "outputs": [],
   "source": [
    "papers.query('category.isin(@stats_topics)').to_csv(\"stats_data.csv\")"
   ]
  },
  {
   "cell_type": "code",
   "execution_count": 85,
   "metadata": {},
   "outputs": [],
   "source": [
    "papers.query('category.isin(@comp_topics)').to_csv(\"comp_data.csv\")"
   ]
  }
 ],
 "metadata": {
  "kernelspec": {
   "display_name": "ml_env",
   "language": "python",
   "name": "python3"
  },
  "language_info": {
   "codemirror_mode": {
    "name": "ipython",
    "version": 3
   },
   "file_extension": ".py",
   "mimetype": "text/x-python",
   "name": "python",
   "nbconvert_exporter": "python",
   "pygments_lexer": "ipython3",
   "version": "3.13.1"
  }
 },
 "nbformat": 4,
 "nbformat_minor": 2
}
